{
 "cells": [
  {
   "cell_type": "markdown",
   "metadata": {
    "application/vnd.databricks.v1+cell": {
     "cellMetadata": {},
     "inputWidgets": {},
     "nuid": "84ae9241-68ed-43a6-a507-5cd1b7ee55fa",
     "showTitle": false,
     "tableResultSettingsMap": {},
     "title": ""
    }
   },
   "source": [
    "## Overview\n",
    "\n",
    "The following notebook demonstrates using [llama-prompt-ops](https://github.com/meta-llama/llama-prompt-ops) tool with [hotpotqa example](https://github.com/meta-llama/llama-prompt-ops/tree/main/use-cases/hotpotqa) on Databricks environment.\n",
    "\n",
    "It covers:\n",
    "\n",
    "**1. Tool Setup**\n",
    "\n",
    "**2. Data Prepration**\n",
    "\n",
    "**3. Config file with Databricks url and model**\n",
    "\n",
    "**4. Execute llama-prompt-ops migrate**\n",
    "\n",
    "\n"
   ]
  },
  {
   "cell_type": "markdown",
   "metadata": {
    "application/vnd.databricks.v1+cell": {
     "cellMetadata": {},
     "inputWidgets": {},
     "nuid": "42ca858f-1322-4c77-8629-5a275a118de7",
     "showTitle": false,
     "tableResultSettingsMap": {},
     "title": ""
    }
   },
   "source": [
    "### 1. Tool Setup"
   ]
  },
  {
   "cell_type": "code",
   "execution_count": 0,
   "metadata": {
    "application/vnd.databricks.v1+cell": {
     "cellMetadata": {
      "byteLimit": 2048000,
      "rowLimit": 10000
     },
     "inputWidgets": {},
     "nuid": "ffa4b70d-45c0-4afd-9f63-b5f50d71f7b1",
     "showTitle": false,
     "tableResultSettingsMap": {},
     "title": ""
    }
   },
   "outputs": [
    {
     "output_type": "stream",
     "name": "stdout",
     "output_type": "stream",
     "text": [
      "Requirement already satisfied: llama-prompt-ops in /local_disk0/.ephemeral_nfs/envs/pythonEnv-b2c8275f-888b-4385-8d75-f9df28462e3d/lib/python3.11/site-packages (0.0.7)\nRequirement already satisfied: click>=8.0.0 in /databricks/python3/lib/python3.11/site-packages (from llama-prompt-ops) (8.0.4)\nRequirement already satisfied: requests>=2.25.0 in /local_disk0/.ephemeral_nfs/envs/pythonEnv-b2c8275f-888b-4385-8d75-f9df28462e3d/lib/python3.11/site-packages (from llama-prompt-ops) (2.32.3)\nRequirement already satisfied: dspy==2.6.13 in /local_disk0/.ephemeral_nfs/envs/pythonEnv-b2c8275f-888b-4385-8d75-f9df28462e3d/lib/python3.11/site-packages (from llama-prompt-ops) (2.6.13)\nRequirement already satisfied: numpy>=2.2.0 in /local_disk0/.ephemeral_nfs/envs/pythonEnv-b2c8275f-888b-4385-8d75-f9df28462e3d/lib/python3.11/site-packages (from llama-prompt-ops) (2.2.6)\nRequirement already satisfied: scipy>=1.15.0 in /local_disk0/.ephemeral_nfs/envs/pythonEnv-b2c8275f-888b-4385-8d75-f9df28462e3d/lib/python3.11/site-packages (from llama-prompt-ops) (1.15.3)\nRequirement already satisfied: pandas>=2.2.0 in /local_disk0/.ephemeral_nfs/envs/pythonEnv-b2c8275f-888b-4385-8d75-f9df28462e3d/lib/python3.11/site-packages (from llama-prompt-ops) (2.2.3)\nRequirement already satisfied: python-dotenv>=1.0.0 in /local_disk0/.ephemeral_nfs/envs/pythonEnv-b2c8275f-888b-4385-8d75-f9df28462e3d/lib/python3.11/site-packages (from llama-prompt-ops) (1.1.0)\nRequirement already satisfied: pyyaml>=6.0.0 in /databricks/python3/lib/python3.11/site-packages (from llama-prompt-ops) (6.0)\nRequirement already satisfied: tiktoken>=0.9.0 in /local_disk0/.ephemeral_nfs/envs/pythonEnv-b2c8275f-888b-4385-8d75-f9df28462e3d/lib/python3.11/site-packages (from llama-prompt-ops) (0.9.0)\nRequirement already satisfied: openai>=1.65.0 in /local_disk0/.ephemeral_nfs/envs/pythonEnv-b2c8275f-888b-4385-8d75-f9df28462e3d/lib/python3.11/site-packages (from llama-prompt-ops) (1.82.0)\nRequirement already satisfied: litellm>=1.63.0 in /local_disk0/.ephemeral_nfs/envs/pythonEnv-b2c8275f-888b-4385-8d75-f9df28462e3d/lib/python3.11/site-packages (from llama-prompt-ops) (1.71.1)\nRequirement already satisfied: huggingface-hub>=0.29.0 in /local_disk0/.ephemeral_nfs/envs/pythonEnv-b2c8275f-888b-4385-8d75-f9df28462e3d/lib/python3.11/site-packages (from llama-prompt-ops) (0.32.1)\nRequirement already satisfied: datasets>=2.21.0 in /local_disk0/.ephemeral_nfs/envs/pythonEnv-b2c8275f-888b-4385-8d75-f9df28462e3d/lib/python3.11/site-packages (from llama-prompt-ops) (3.6.0)\nRequirement already satisfied: backoff in /local_disk0/.ephemeral_nfs/envs/pythonEnv-b2c8275f-888b-4385-8d75-f9df28462e3d/lib/python3.11/site-packages (from dspy==2.6.13->llama-prompt-ops) (2.2.1)\nRequirement already satisfied: joblib~=1.3 in /local_disk0/.ephemeral_nfs/envs/pythonEnv-b2c8275f-888b-4385-8d75-f9df28462e3d/lib/python3.11/site-packages (from dspy==2.6.13->llama-prompt-ops) (1.5.1)\nRequirement already satisfied: regex in /local_disk0/.ephemeral_nfs/envs/pythonEnv-b2c8275f-888b-4385-8d75-f9df28462e3d/lib/python3.11/site-packages (from dspy==2.6.13->llama-prompt-ops) (2024.11.6)\nRequirement already satisfied: ujson in /databricks/python3/lib/python3.11/site-packages (from dspy==2.6.13->llama-prompt-ops) (5.4.0)\nRequirement already satisfied: tqdm in /local_disk0/.ephemeral_nfs/envs/pythonEnv-b2c8275f-888b-4385-8d75-f9df28462e3d/lib/python3.11/site-packages (from dspy==2.6.13->llama-prompt-ops) (4.67.1)\nRequirement already satisfied: optuna in /local_disk0/.ephemeral_nfs/envs/pythonEnv-b2c8275f-888b-4385-8d75-f9df28462e3d/lib/python3.11/site-packages (from dspy==2.6.13->llama-prompt-ops) (4.3.0)\nRequirement already satisfied: pydantic~=2.0 in /local_disk0/.ephemeral_nfs/envs/pythonEnv-b2c8275f-888b-4385-8d75-f9df28462e3d/lib/python3.11/site-packages (from dspy==2.6.13->llama-prompt-ops) (2.11.5)\nRequirement already satisfied: magicattr~=0.1.6 in /local_disk0/.ephemeral_nfs/envs/pythonEnv-b2c8275f-888b-4385-8d75-f9df28462e3d/lib/python3.11/site-packages (from dspy==2.6.13->llama-prompt-ops) (0.1.6)\nRequirement already satisfied: diskcache in /local_disk0/.ephemeral_nfs/envs/pythonEnv-b2c8275f-888b-4385-8d75-f9df28462e3d/lib/python3.11/site-packages (from dspy==2.6.13->llama-prompt-ops) (5.6.3)\nRequirement already satisfied: json-repair in /local_disk0/.ephemeral_nfs/envs/pythonEnv-b2c8275f-888b-4385-8d75-f9df28462e3d/lib/python3.11/site-packages (from dspy==2.6.13->llama-prompt-ops) (0.46.0)\nRequirement already satisfied: tenacity>=8.2.3 in /local_disk0/.ephemeral_nfs/envs/pythonEnv-b2c8275f-888b-4385-8d75-f9df28462e3d/lib/python3.11/site-packages (from dspy==2.6.13->llama-prompt-ops) (9.1.2)\nRequirement already satisfied: anyio in /local_disk0/.ephemeral_nfs/envs/pythonEnv-b2c8275f-888b-4385-8d75-f9df28462e3d/lib/python3.11/site-packages (from dspy==2.6.13->llama-prompt-ops) (4.9.0)\nRequirement already satisfied: asyncer==0.0.8 in /local_disk0/.ephemeral_nfs/envs/pythonEnv-b2c8275f-888b-4385-8d75-f9df28462e3d/lib/python3.11/site-packages (from dspy==2.6.13->llama-prompt-ops) (0.0.8)\nRequirement already satisfied: cachetools in /databricks/python3/lib/python3.11/site-packages (from dspy==2.6.13->llama-prompt-ops) (5.5.0)\nRequirement already satisfied: cloudpickle in /databricks/python3/lib/python3.11/site-packages (from dspy==2.6.13->llama-prompt-ops) (3.0.0)\nRequirement already satisfied: filelock in /databricks/python3/lib/python3.11/site-packages (from datasets>=2.21.0->llama-prompt-ops) (3.13.4)\nRequirement already satisfied: pyarrow>=15.0.0 in /local_disk0/.ephemeral_nfs/envs/pythonEnv-b2c8275f-888b-4385-8d75-f9df28462e3d/lib/python3.11/site-packages (from datasets>=2.21.0->llama-prompt-ops) (20.0.0)\nRequirement already satisfied: dill<0.3.9,>=0.3.0 in /local_disk0/.ephemeral_nfs/envs/pythonEnv-b2c8275f-888b-4385-8d75-f9df28462e3d/lib/python3.11/site-packages (from datasets>=2.21.0->llama-prompt-ops) (0.3.8)\nRequirement already satisfied: xxhash in /local_disk0/.ephemeral_nfs/envs/pythonEnv-b2c8275f-888b-4385-8d75-f9df28462e3d/lib/python3.11/site-packages (from datasets>=2.21.0->llama-prompt-ops) (3.5.0)\nRequirement already satisfied: multiprocess<0.70.17 in /local_disk0/.ephemeral_nfs/envs/pythonEnv-b2c8275f-888b-4385-8d75-f9df28462e3d/lib/python3.11/site-packages (from datasets>=2.21.0->llama-prompt-ops) (0.70.16)\nRequirement already satisfied: fsspec<=2025.3.0,>=2023.1.0 in /local_disk0/.ephemeral_nfs/envs/pythonEnv-b2c8275f-888b-4385-8d75-f9df28462e3d/lib/python3.11/site-packages (from fsspec[http]<=2025.3.0,>=2023.1.0->datasets>=2.21.0->llama-prompt-ops) (2025.3.0)\nRequirement already satisfied: packaging in /databricks/python3/lib/python3.11/site-packages (from datasets>=2.21.0->llama-prompt-ops) (23.2)\nRequirement already satisfied: typing-extensions>=3.7.4.3 in /local_disk0/.ephemeral_nfs/envs/pythonEnv-b2c8275f-888b-4385-8d75-f9df28462e3d/lib/python3.11/site-packages (from huggingface-hub>=0.29.0->llama-prompt-ops) (4.13.2)\nRequirement already satisfied: hf-xet<2.0.0,>=1.1.2 in /local_disk0/.ephemeral_nfs/envs/pythonEnv-b2c8275f-888b-4385-8d75-f9df28462e3d/lib/python3.11/site-packages (from huggingface-hub>=0.29.0->llama-prompt-ops) (1.1.2)\nRequirement already satisfied: aiohttp in /local_disk0/.ephemeral_nfs/envs/pythonEnv-b2c8275f-888b-4385-8d75-f9df28462e3d/lib/python3.11/site-packages (from litellm>=1.63.0->llama-prompt-ops) (3.12.1)\nRequirement already satisfied: httpx>=0.23.0 in /local_disk0/.ephemeral_nfs/envs/pythonEnv-b2c8275f-888b-4385-8d75-f9df28462e3d/lib/python3.11/site-packages (from litellm>=1.63.0->llama-prompt-ops) (0.28.1)\nRequirement already satisfied: httpx-aiohttp>=0.1.4 in /local_disk0/.ephemeral_nfs/envs/pythonEnv-b2c8275f-888b-4385-8d75-f9df28462e3d/lib/python3.11/site-packages (from litellm>=1.63.0->llama-prompt-ops) (0.1.4)\nRequirement already satisfied: importlib-metadata>=6.8.0 in /local_disk0/.ephemeral_nfs/envs/pythonEnv-b2c8275f-888b-4385-8d75-f9df28462e3d/lib/python3.11/site-packages (from litellm>=1.63.0->llama-prompt-ops) (8.7.0)\nRequirement already satisfied: jinja2<4.0.0,>=3.1.2 in /local_disk0/.ephemeral_nfs/envs/pythonEnv-b2c8275f-888b-4385-8d75-f9df28462e3d/lib/python3.11/site-packages (from litellm>=1.63.0->llama-prompt-ops) (3.1.6)\nRequirement already satisfied: jsonschema<5.0.0,>=4.22.0 in /local_disk0/.ephemeral_nfs/envs/pythonEnv-b2c8275f-888b-4385-8d75-f9df28462e3d/lib/python3.11/site-packages (from litellm>=1.63.0->llama-prompt-ops) (4.23.0)\nRequirement already satisfied: tokenizers in /local_disk0/.ephemeral_nfs/envs/pythonEnv-b2c8275f-888b-4385-8d75-f9df28462e3d/lib/python3.11/site-packages (from litellm>=1.63.0->llama-prompt-ops) (0.21.1)\nRequirement already satisfied: distro<2,>=1.7.0 in /usr/lib/python3/dist-packages (from openai>=1.65.0->llama-prompt-ops) (1.7.0)\nRequirement already satisfied: jiter<1,>=0.4.0 in /local_disk0/.ephemeral_nfs/envs/pythonEnv-b2c8275f-888b-4385-8d75-f9df28462e3d/lib/python3.11/site-packages (from openai>=1.65.0->llama-prompt-ops) (0.10.0)\nRequirement already satisfied: sniffio in /local_disk0/.ephemeral_nfs/envs/pythonEnv-b2c8275f-888b-4385-8d75-f9df28462e3d/lib/python3.11/site-packages (from openai>=1.65.0->llama-prompt-ops) (1.3.1)\nRequirement already satisfied: python-dateutil>=2.8.2 in /databricks/python3/lib/python3.11/site-packages (from pandas>=2.2.0->llama-prompt-ops) (2.8.2)\nRequirement already satisfied: pytz>=2020.1 in /databricks/python3/lib/python3.11/site-packages (from pandas>=2.2.0->llama-prompt-ops) (2022.7)\nRequirement already satisfied: tzdata>=2022.7 in /local_disk0/.ephemeral_nfs/envs/pythonEnv-b2c8275f-888b-4385-8d75-f9df28462e3d/lib/python3.11/site-packages (from pandas>=2.2.0->llama-prompt-ops) (2025.2)\nRequirement already satisfied: charset-normalizer<4,>=2 in /databricks/python3/lib/python3.11/site-packages (from requests>=2.25.0->llama-prompt-ops) (2.0.4)\nRequirement already satisfied: idna<4,>=2.5 in /databricks/python3/lib/python3.11/site-packages (from requests>=2.25.0->llama-prompt-ops) (3.4)\nRequirement already satisfied: urllib3<3,>=1.21.1 in /databricks/python3/lib/python3.11/site-packages (from requests>=2.25.0->llama-prompt-ops) (1.26.16)\nRequirement already satisfied: certifi>=2017.4.17 in /databricks/python3/lib/python3.11/site-packages (from requests>=2.25.0->llama-prompt-ops) (2023.7.22)\nRequirement already satisfied: aiohappyeyeballs>=2.5.0 in /local_disk0/.ephemeral_nfs/envs/pythonEnv-b2c8275f-888b-4385-8d75-f9df28462e3d/lib/python3.11/site-packages (from aiohttp->litellm>=1.63.0->llama-prompt-ops) (2.6.1)\nRequirement already satisfied: aiosignal>=1.1.2 in /local_disk0/.ephemeral_nfs/envs/pythonEnv-b2c8275f-888b-4385-8d75-f9df28462e3d/lib/python3.11/site-packages (from aiohttp->litellm>=1.63.0->llama-prompt-ops) (1.3.2)\nRequirement already satisfied: attrs>=17.3.0 in /local_disk0/.ephemeral_nfs/envs/pythonEnv-b2c8275f-888b-4385-8d75-f9df28462e3d/lib/python3.11/site-packages (from aiohttp->litellm>=1.63.0->llama-prompt-ops) (25.3.0)\nRequirement already satisfied: frozenlist>=1.1.1 in /local_disk0/.ephemeral_nfs/envs/pythonEnv-b2c8275f-888b-4385-8d75-f9df28462e3d/lib/python3.11/site-packages (from aiohttp->litellm>=1.63.0->llama-prompt-ops) (1.6.0)\nRequirement already satisfied: multidict<7.0,>=4.5 in /local_disk0/.ephemeral_nfs/envs/pythonEnv-b2c8275f-888b-4385-8d75-f9df28462e3d/lib/python3.11/site-packages (from aiohttp->litellm>=1.63.0->llama-prompt-ops) (6.4.4)\nRequirement already satisfied: propcache>=0.2.0 in /local_disk0/.ephemeral_nfs/envs/pythonEnv-b2c8275f-888b-4385-8d75-f9df28462e3d/lib/python3.11/site-packages (from aiohttp->litellm>=1.63.0->llama-prompt-ops) (0.3.1)\nRequirement already satisfied: yarl<2.0,>=1.17.0 in /local_disk0/.ephemeral_nfs/envs/pythonEnv-b2c8275f-888b-4385-8d75-f9df28462e3d/lib/python3.11/site-packages (from aiohttp->litellm>=1.63.0->llama-prompt-ops) (1.20.0)\nRequirement already satisfied: httpcore==1.* in /local_disk0/.ephemeral_nfs/envs/pythonEnv-b2c8275f-888b-4385-8d75-f9df28462e3d/lib/python3.11/site-packages (from httpx>=0.23.0->litellm>=1.63.0->llama-prompt-ops) (1.0.9)\nRequirement already satisfied: h11>=0.16 in /local_disk0/.ephemeral_nfs/envs/pythonEnv-b2c8275f-888b-4385-8d75-f9df28462e3d/lib/python3.11/site-packages (from httpcore==1.*->httpx>=0.23.0->litellm>=1.63.0->llama-prompt-ops) (0.16.0)\nRequirement already satisfied: zipp>=3.20 in /local_disk0/.ephemeral_nfs/envs/pythonEnv-b2c8275f-888b-4385-8d75-f9df28462e3d/lib/python3.11/site-packages (from importlib-metadata>=6.8.0->litellm>=1.63.0->llama-prompt-ops) (3.22.0)\nRequirement already satisfied: MarkupSafe>=2.0 in /local_disk0/.ephemeral_nfs/envs/pythonEnv-b2c8275f-888b-4385-8d75-f9df28462e3d/lib/python3.11/site-packages (from jinja2<4.0.0,>=3.1.2->litellm>=1.63.0->llama-prompt-ops) (3.0.2)\nRequirement already satisfied: jsonschema-specifications>=2023.03.6 in /local_disk0/.ephemeral_nfs/envs/pythonEnv-b2c8275f-888b-4385-8d75-f9df28462e3d/lib/python3.11/site-packages (from jsonschema<5.0.0,>=4.22.0->litellm>=1.63.0->llama-prompt-ops) (2025.4.1)\nRequirement already satisfied: referencing>=0.28.4 in /local_disk0/.ephemeral_nfs/envs/pythonEnv-b2c8275f-888b-4385-8d75-f9df28462e3d/lib/python3.11/site-packages (from jsonschema<5.0.0,>=4.22.0->litellm>=1.63.0->llama-prompt-ops) (0.36.2)\nRequirement already satisfied: rpds-py>=0.7.1 in /local_disk0/.ephemeral_nfs/envs/pythonEnv-b2c8275f-888b-4385-8d75-f9df28462e3d/lib/python3.11/site-packages (from jsonschema<5.0.0,>=4.22.0->litellm>=1.63.0->llama-prompt-ops) (0.25.1)\nRequirement already satisfied: annotated-types>=0.6.0 in /local_disk0/.ephemeral_nfs/envs/pythonEnv-b2c8275f-888b-4385-8d75-f9df28462e3d/lib/python3.11/site-packages (from pydantic~=2.0->dspy==2.6.13->llama-prompt-ops) (0.7.0)\nRequirement already satisfied: pydantic-core==2.33.2 in /local_disk0/.ephemeral_nfs/envs/pythonEnv-b2c8275f-888b-4385-8d75-f9df28462e3d/lib/python3.11/site-packages (from pydantic~=2.0->dspy==2.6.13->llama-prompt-ops) (2.33.2)\nRequirement already satisfied: typing-inspection>=0.4.0 in /local_disk0/.ephemeral_nfs/envs/pythonEnv-b2c8275f-888b-4385-8d75-f9df28462e3d/lib/python3.11/site-packages (from pydantic~=2.0->dspy==2.6.13->llama-prompt-ops) (0.4.1)\nRequirement already satisfied: six>=1.5 in /usr/lib/python3/dist-packages (from python-dateutil>=2.8.2->pandas>=2.2.0->llama-prompt-ops) (1.16.0)\nRequirement already satisfied: alembic>=1.5.0 in /local_disk0/.ephemeral_nfs/envs/pythonEnv-b2c8275f-888b-4385-8d75-f9df28462e3d/lib/python3.11/site-packages (from optuna->dspy==2.6.13->llama-prompt-ops) (1.16.1)\nRequirement already satisfied: colorlog in /local_disk0/.ephemeral_nfs/envs/pythonEnv-b2c8275f-888b-4385-8d75-f9df28462e3d/lib/python3.11/site-packages (from optuna->dspy==2.6.13->llama-prompt-ops) (6.9.0)\nRequirement already satisfied: sqlalchemy>=1.4.2 in /local_disk0/.ephemeral_nfs/envs/pythonEnv-b2c8275f-888b-4385-8d75-f9df28462e3d/lib/python3.11/site-packages (from optuna->dspy==2.6.13->llama-prompt-ops) (2.0.41)\nRequirement already satisfied: Mako in /local_disk0/.ephemeral_nfs/envs/pythonEnv-b2c8275f-888b-4385-8d75-f9df28462e3d/lib/python3.11/site-packages (from alembic>=1.5.0->optuna->dspy==2.6.13->llama-prompt-ops) (1.3.10)\nRequirement already satisfied: greenlet>=1 in /local_disk0/.ephemeral_nfs/envs/pythonEnv-b2c8275f-888b-4385-8d75-f9df28462e3d/lib/python3.11/site-packages (from sqlalchemy>=1.4.2->optuna->dspy==2.6.13->llama-prompt-ops) (3.2.2)\n\u001B[43mNote: you may need to restart the kernel using %restart_python or dbutils.library.restartPython() to use updated packages.\u001B[0m\n"
     ]
    }
   ],
   "source": [
    "\n",
    "# Install llama-prompt-ops\n",
    "!pip install llama-prompt-ops\n",
    "dbutils.library.restartPython()"
   ]
  },
  {
   "cell_type": "markdown",
   "metadata": {
    "application/vnd.databricks.v1+cell": {
     "cellMetadata": {},
     "inputWidgets": {},
     "nuid": "dbc79d97-e4bc-4875-bb03-ad5f9f55ab47",
     "showTitle": false,
     "tableResultSettingsMap": {},
     "title": ""
    }
   },
   "source": [
    "### 2. Data Prepration"
   ]
  },
  {
   "cell_type": "code",
   "execution_count": 0,
   "metadata": {
    "application/vnd.databricks.v1+cell": {
     "cellMetadata": {
      "byteLimit": 2048000,
      "rowLimit": 10000
     },
     "inputWidgets": {},
     "nuid": "6fbb2ba5-1889-46db-8256-9bf791d4e3c8",
     "showTitle": false,
     "tableResultSettingsMap": {},
     "title": ""
    }
   },
   "outputs": [
    {
     "output_type": "stream",
     "name": "stderr",
     "output_type": "stream",
     "text": [
      "WARNING: All log messages before absl::InitializeLog() is called are written to STDERR\nI0000 00:00:1748282391.563007   35898 fork_posix.cc:75] Other threads are currently calling into gRPC, skipping fork() handlers\n"
     ]
    },
    {
     "output_type": "stream",
     "name": "stdout",
     "output_type": "stream",
     "text": [
      "  % Total    % Received % Xferd  Average Speed   Time    Time     Time  Current\r\n                                 Dload  Upload   Total   Spent    Left  Speed\r\n\r  0     0    0     0    0     0      0      0 --:--:-- --:--:-- --:--:--     0\r  0 44.1M    0  379k    0     0   549k      0  0:01:22 --:--:--  0:01:22  548k\r 16 44.1M   16 7412k    0     0  4414k      0  0:00:10  0:00:01  0:00:09 4412k\r 33 44.1M   33 14.9M    0     0  5755k      0  0:00:07  0:00:02  0:00:05 5754k\r 53 44.1M   53 23.8M    0     0  6679k      0  0:00:06  0:00:03  0:00:03 6679k\r 74 44.1M   74 32.7M    0     0  7212k      0  0:00:06  0:00:04  0:00:02 7211k\r 95 44.1M   95 42.1M    0     0  7606k      0  0:00:05  0:00:05 --:--:-- 8583k\r100 44.1M  100 44.1M    0     0  7689k      0  0:00:05  0:00:05 --:--:-- 8998k\r\n"
     ]
    }
   ],
   "source": [
    "# Download the sample dataset\n",
    "!curl -o hotpotqa_sample.json http://curtis.ml.cmu.edu/datasets/hotpot/hotpot_dev_distractor_v1.json"
   ]
  },
  {
   "cell_type": "code",
   "execution_count": 0,
   "metadata": {
    "application/vnd.databricks.v1+cell": {
     "cellMetadata": {
      "byteLimit": 2048000,
      "rowLimit": 10000
     },
     "inputWidgets": {},
     "nuid": "e672bb03-579c-484e-8bea-d241417e24c0",
     "showTitle": false,
     "tableResultSettingsMap": {},
     "title": ""
    }
   },
   "outputs": [
    {
     "output_type": "stream",
     "name": "stdout",
     "output_type": "stream",
     "text": [
      "7405\n"
     ]
    }
   ],
   "source": [
    "# Taking a subset of 100 samples\n",
    "import json\n",
    "input = json.loads(open(\"hotpotqa_sample.json\").read())\n",
    "print(len(input))\n",
    "input_subset = input[:100]\n",
    "with open(\"hotpotqa_sample_subset.json\", \"w\") as outfile:\n",
    "    json.dump(input_subset, outfile)"
   ]
  },
  {
   "cell_type": "markdown",
   "metadata": {
    "application/vnd.databricks.v1+cell": {
     "cellMetadata": {},
     "inputWidgets": {},
     "nuid": "a3d8ca56-c831-42c7-abab-a6b22d071ef1",
     "showTitle": false,
     "tableResultSettingsMap": {},
     "title": ""
    }
   },
   "source": [
    "### 3. Create Config \n",
    "- Create the configuration file (hotpotqa_databricks.yaml)\n",
    "- Set your databricks base url and model name"
   ]
  },
  {
   "cell_type": "code",
   "execution_count": 0,
   "metadata": {
    "application/vnd.databricks.v1+cell": {
     "cellMetadata": {
      "byteLimit": 2048000,
      "rowLimit": 10000
     },
     "inputWidgets": {},
     "nuid": "b3080e3a-4ab3-487b-9e37-d2288533ece9",
     "showTitle": false,
     "tableResultSettingsMap": {},
     "title": ""
    }
   },
   "outputs": [],
   "source": [
    "from dotenv import load_dotenv\n",
    "import os\n",
    "\n",
    "load_dotenv()\n",
    "os.environ[\"DATABRICKS_API_TOKEN\"] = os.getenv(\"DATABRICKS_API_TOKEN\")"
   ]
  },
  {
   "cell_type": "markdown",
   "metadata": {
    "application/vnd.databricks.v1+cell": {
     "cellMetadata": {},
     "inputWidgets": {},
     "nuid": "1954b75d-93e2-4ab0-a5ec-b4458b7d87e1",
     "showTitle": false,
     "tableResultSettingsMap": {},
     "title": ""
    }
   },
   "source": [
    "### 4. Execute llama-prompt-ops migrate"
   ]
  },
  {
   "cell_type": "code",
   "execution_count": 0,
   "metadata": {
    "application/vnd.databricks.v1+cell": {
     "cellMetadata": {
      "byteLimit": 2048000,
      "rowLimit": 10000
     },
     "inputWidgets": {},
     "nuid": "e7f65a5e-f61a-4afc-8957-68c079022f0f",
     "showTitle": false,
     "tableResultSettingsMap": {},
     "title": ""
    }
   },
   "outputs": [
    {
     "output_type": "stream",
     "name": "stdout",
     "output_type": "stream",
     "text": [
      "Loaded environment variables from .env\r\nLoaded configuration from hotpotqa_databricks.yaml\r\n Using model with DSPy: databricks/databricks-llama-4-maverick\r\nUsing the same model for task and proposer: databricks/databricks-llama-4-maverick\r\nUsing metric: HotpotQAMetric\r\nResolved relative dataset path to: /Workspace/Users/anusha_7777@yahoo.com/databricks-prompt-ops-example/hotpotqa_sample_subset.json\r\nUsing dataset adapter: HotpotQAAdapter\r\n/local_disk0/.ephemeral_nfs/envs/pythonEnv-b2c8275f-888b-4385-8d75-f9df28462e3d/lib/python3.11/site-packages/llama_prompt_ops/core/model_strategies.py:62: UserWarning: Model 'databricks-llama-4-maverick' does not appear to be a Llama model. This strategy is optimized for Llama models and may not work as expected.\r\n  warnings.warn(f\"Model '{model_name}' does not appear to be a Llama model. \"\r\nAuto-detected LlamaStrategy for model: databricks-llama-4-maverick\r\nUsing 'system_prompt' from config\r\nUsing output prefix from config: hotpotqa_databricks\r\nStarting prompt optimization...\r\n2025/05/26 20:21:00 INFO dspy.teleprompt.mipro_optimizer_v2: \r\nRUNNING WITH THE FOLLOWING LIGHT AUTO RUN SETTINGS:\r\nnum_trials: 7\r\nminibatch: False\r\nnum_candidates: 5\r\nvalset size: 7\r\n\r\n2025/05/26 20:21:00 INFO dspy.teleprompt.mipro_optimizer_v2: \r\n==> STEP 1: BOOTSTRAP FEWSHOT EXAMPLES <==\r\n2025/05/26 20:21:00 INFO dspy.teleprompt.mipro_optimizer_v2: These will be used as few-shot example candidates for our program and for creating instructions.\r\n\r\n2025/05/26 20:21:00 INFO dspy.teleprompt.mipro_optimizer_v2: Bootstrapping N=5 sets of demonstrations...\r\nBootstrapping set 1/5\r\nBootstrapping set 2/5\r\nBootstrapping set 3/5\r\n\r  0%|                                                     | 0/7 [00:00<?, ?it/s]\r 14%|██████▍                                      | 1/7 [00:01<00:07,  1.24s/it]\r 29%|████████████▊                                | 2/7 [00:01<00:03,  1.29it/s]\r 43%|███████████████████▎                         | 3/7 [00:02<00:02,  1.62it/s]\r 57%|█████████████████████████▋                   | 4/7 [00:02<00:01,  1.93it/s]\r 57%|█████████████████████████▋                   | 4/7 [00:02<00:01,  1.61it/s]\r\nBootstrapped 4 full traces after 4 examples for up to 1 rounds, amounting to 4 attempts.\r\nBootstrapping set 4/5\r\n\r  0%|                                                     | 0/7 [00:00<?, ?it/s]\r 14%|██████▍                                      | 1/7 [00:00<00:02,  2.21it/s]\r 29%|████████████▊                                | 2/7 [00:00<00:02,  2.30it/s]\r 43%|███████████████████▎                         | 3/7 [00:01<00:01,  2.29it/s]\r 57%|█████████████████████████▋                   | 4/7 [00:01<00:01,  2.41it/s]\r 57%|█████████████████████████▋                   | 4/7 [00:01<00:01,  2.36it/s]\r\nBootstrapped 4 full traces after 4 examples for up to 1 rounds, amounting to 4 attempts.\r\nBootstrapping set 5/5\r\n\r  0%|                                                     | 0/7 [00:00<?, ?it/s]\r 14%|██████▍                                      | 1/7 [00:00<00:02,  2.25it/s]\r 29%|████████████▊                                | 2/7 [00:00<00:01,  2.57it/s]\r 29%|████████████▊                                | 2/7 [00:00<00:01,  2.51it/s]\r\nBootstrapped 2 full traces after 2 examples for up to 1 rounds, amounting to 2 attempts.\r\n2025/05/26 20:21:05 INFO dspy.teleprompt.mipro_optimizer_v2: \r\n==> STEP 2: PROPOSE INSTRUCTION CANDIDATES <==\r\n2025/05/26 20:21:05 INFO dspy.teleprompt.mipro_optimizer_v2: We will use the few-shot examples from the previous step, a generated dataset summary, a summary of the program code, and a randomly selected prompting tip to propose instructions.\r\n2025/05/26 20:21:11 INFO dspy.teleprompt.mipro_optimizer_v2: \r\nProposing instructions...\r\n\r\n2025/05/26 20:21:37 INFO dspy.teleprompt.mipro_optimizer_v2: Proposed Instructions for Predictor 0:\r\n\r\n2025/05/26 20:21:37 INFO dspy.teleprompt.mipro_optimizer_v2: 0: <s> You are an expert at answering complex questions that require multi-hop reasoning. Give a short factoid answer.\r\n</s>\r\n\r\n2025/05/26 20:21:37 INFO dspy.teleprompt.mipro_optimizer_v2: 1: <s> You are a detective on a mission to save a kidnapped scientist, and you have a limited time to find them. You have a set of contextual information and a specific question related to the context that will lead you to the scientist's location. Use your expertise to answer the question based on the given context, and provide a short factoid answer that will help you crack the case and rescue the scientist before it's too late! </s>\r\n\r\n2025/05/26 20:21:37 INFO dspy.teleprompt.mipro_optimizer_v2: 2: <s> You are a detective on a mission to save the world from an alien invasion. You have been given a complex question and a set of context paragraphs that contain crucial information to answer it. Use your expertise to analyze the context, identify relevant information, and provide a concise answer to the question. The fate of humanity depends on your ability to reason and provide an accurate response. Give a short factoid answer.\r\n</s>\r\n\r\n2025/05/26 20:21:37 INFO dspy.teleprompt.mipro_optimizer_v2: 3: <s> You are an expert at answering complex questions that require multi-hop reasoning. Your task is to generate a short factoid answer based on the information provided in the context. The context contains a list of entities with associated text descriptions, and you need to identify the relevant information to answer the question. Provide a concise and accurate answer. </s>\r\n\r\n2025/05/26 20:21:37 INFO dspy.teleprompt.mipro_optimizer_v2: 4: <s> You are a knowledgeable assistant capable of answering complex questions by analyzing the given context and extracting relevant information. Provide a concise answer to the question based on the provided context. </s>\r\n\r\n2025/05/26 20:21:37 INFO dspy.teleprompt.mipro_optimizer_v2: \r\n\r\n2025/05/26 20:21:37 INFO dspy.teleprompt.mipro_optimizer_v2: ==> STEP 3: FINDING OPTIMAL PROMPT PARAMETERS <==\r\n2025/05/26 20:21:37 INFO dspy.teleprompt.mipro_optimizer_v2: We will evaluate the program over a series of trials with different combinations of instructions and few-shot examples to find the optimal combination using Bayesian Optimization.\r\n\r\n2025/05/26 20:21:37 INFO dspy.teleprompt.mipro_optimizer_v2: == Trial 1 / 7 - Full Evaluation of Default Program ==\r\n\r  0%|                                                     | 0/7 [00:00<?, ?it/s]\rAverage Metric: 0.50 / 1 (50.0%):   0%|                   | 0/7 [00:00<?, ?it/s]\rAverage Metric: 0.50 / 1 (50.0%):  14%|█▌         | 1/7 [00:00<00:01,  3.88it/s]\rAverage Metric: 1.00 / 2 (50.0%):  14%|█▌         | 1/7 [00:00<00:01,  3.88it/s]\rAverage Metric: 1.00 / 3 (33.3%):  29%|███▏       | 2/7 [00:00<00:01,  3.88it/s]\rAverage Metric: 1.29 / 4 (32.1%):  43%|████▋      | 3/7 [00:00<00:01,  3.88it/s]\rAverage Metric: 1.79 / 5 (35.7%):  57%|██████▎    | 4/7 [00:00<00:00,  3.88it/s]\rAverage Metric: 1.79 / 5 (35.7%):  71%|███████▊   | 5/7 [00:00<00:00,  6.34it/s]\rAverage Metric: 1.79 / 6 (29.8%):  71%|███████▊   | 5/7 [00:01<00:00,  6.34it/s]\rAverage Metric: 1.79 / 6 (29.8%):  86%|█████████▍ | 6/7 [00:01<00:00,  3.48it/s]\rAverage Metric: 1.82 / 7 (26.0%):  86%|█████████▍ | 6/7 [00:01<00:00,  3.48it/s]\rAverage Metric: 1.82 / 7 (26.0%): 100%|███████████| 7/7 [00:01<00:00,  3.43it/s]\rAverage Metric: 1.82 / 7 (26.0%): 100%|███████████| 7/7 [00:01<00:00,  3.81it/s]\r\n2025/05/26 20:21:39 INFO dspy.evaluate.evaluate: Average Metric: 1.8208020050125313 / 7 (26.0%)\r\n2025/05/26 20:21:39 INFO dspy.teleprompt.mipro_optimizer_v2: Default program score: 26.01\r\n\r\n/local_disk0/.ephemeral_nfs/envs/pythonEnv-b2c8275f-888b-4385-8d75-f9df28462e3d/lib/python3.11/site-packages/optuna/_experimental.py:31: ExperimentalWarning: Argument ``multivariate`` is an experimental feature. The interface can change in the future.\r\n  warnings.warn(\r\n2025/05/26 20:21:39 INFO dspy.teleprompt.mipro_optimizer_v2: ===== Trial 2 / 7 =====\r\n\r  0%|                                                     | 0/7 [00:00<?, ?it/s]\rAverage Metric: 0.50 / 1 (50.0%):   0%|                   | 0/7 [00:00<?, ?it/s]\rAverage Metric: 0.50 / 1 (50.0%):  14%|█▌         | 1/7 [00:00<00:01,  3.05it/s]\rAverage Metric: 1.00 / 2 (50.0%):  14%|█▌         | 1/7 [00:00<00:01,  3.05it/s]\rAverage Metric: 1.00 / 2 (50.0%):  29%|███▏       | 2/7 [00:00<00:01,  3.20it/s]\rAverage Metric: 1.50 / 3 (50.0%):  29%|███▏       | 2/7 [00:00<00:01,  3.20it/s]\rAverage Metric: 1.79 / 4 (44.6%):  43%|████▋      | 3/7 [00:00<00:01,  3.20it/s]\rAverage Metric: 1.79 / 5 (35.7%):  57%|██████▎    | 4/7 [00:01<00:00,  3.20it/s]\rAverage Metric: 1.79 / 5 (35.7%):  71%|███████▊   | 5/7 [00:01<00:00,  5.00it/s]\rAverage Metric: 1.79 / 6 (29.8%):  71%|███████▊   | 5/7 [00:01<00:00,  5.00it/s]\rAverage Metric: 1.79 / 7 (25.5%):  86%|█████████▍ | 6/7 [00:01<00:00,  5.00it/s]\rAverage Metric: 1.79 / 7 (25.5%): 100%|███████████| 7/7 [00:01<00:00,  6.34it/s]\r\n2025/05/26 20:21:40 INFO dspy.evaluate.evaluate: Average Metric: 1.7857142857142858 / 7 (25.5%)\r\n2025/05/26 20:21:40 INFO dspy.teleprompt.mipro_optimizer_v2: Score: 25.51 with parameters ['Predictor 0: Instruction 1', 'Predictor 0: Few-Shot Set 1'].\r\n2025/05/26 20:21:40 INFO dspy.teleprompt.mipro_optimizer_v2: Scores so far: [26.01, 25.51]\r\n2025/05/26 20:21:40 INFO dspy.teleprompt.mipro_optimizer_v2: Best score so far: 26.01\r\n2025/05/26 20:21:40 INFO dspy.teleprompt.mipro_optimizer_v2: =======================\r\n\r\n\r\n2025/05/26 20:21:40 INFO dspy.teleprompt.mipro_optimizer_v2: ===== Trial 3 / 7 =====\r\n\r  0%|                                                     | 0/7 [00:00<?, ?it/s]\rAverage Metric: 0.50 / 1 (50.0%):   0%|                   | 0/7 [00:00<?, ?it/s]\rAverage Metric: 0.50 / 1 (50.0%):  14%|█▌         | 1/7 [00:00<00:02,  2.69it/s]\rAverage Metric: 1.00 / 2 (50.0%):  14%|█▌         | 1/7 [00:00<00:02,  2.69it/s]\rAverage Metric: 1.00 / 2 (50.0%):  29%|███▏       | 2/7 [00:00<00:02,  2.08it/s]\rAverage Metric: 1.00 / 3 (33.3%):  29%|███▏       | 2/7 [00:00<00:02,  2.08it/s]\rAverage Metric: 1.00 / 4 (25.0%):  43%|████▋      | 3/7 [00:01<00:01,  2.08it/s]\rAverage Metric: 1.00 / 4 (25.0%):  57%|██████▎    | 4/7 [00:01<00:00,  4.16it/s]\rAverage Metric: 1.29 / 5 (25.7%):  57%|██████▎    | 4/7 [00:01<00:00,  4.16it/s]\rAverage Metric: 1.79 / 6 (29.8%):  71%|███████▊   | 5/7 [00:01<00:00,  4.16it/s]\rAverage Metric: 1.79 / 6 (29.8%):  86%|█████████▍ | 6/7 [00:01<00:00,  3.22it/s]\rAverage Metric: 1.79 / 7 (25.5%):  86%|█████████▍ | 6/7 [00:01<00:00,  3.22it/s]\rAverage Metric: 1.79 / 7 (25.5%): 100%|███████████| 7/7 [00:01<00:00,  3.60it/s]\r\n2025/05/26 20:21:42 INFO dspy.evaluate.evaluate: Average Metric: 1.7857142857142858 / 7 (25.5%)\r\n2025/05/26 20:21:42 INFO dspy.teleprompt.mipro_optimizer_v2: Score: 25.51 with parameters ['Predictor 0: Instruction 2', 'Predictor 0: Few-Shot Set 1'].\r\n2025/05/26 20:21:42 INFO dspy.teleprompt.mipro_optimizer_v2: Scores so far: [26.01, 25.51, 25.51]\r\n2025/05/26 20:21:42 INFO dspy.teleprompt.mipro_optimizer_v2: Best score so far: 26.01\r\n2025/05/26 20:21:42 INFO dspy.teleprompt.mipro_optimizer_v2: =======================\r\n\r\n\r\n2025/05/26 20:21:42 INFO dspy.teleprompt.mipro_optimizer_v2: ===== Trial 4 / 7 =====\r\n\r  0%|                                                     | 0/7 [00:00<?, ?it/s]\rAverage Metric: 0.50 / 1 (50.0%):   0%|                   | 0/7 [00:00<?, ?it/s]\rAverage Metric: 0.50 / 1 (50.0%):  14%|█▌         | 1/7 [00:00<00:02,  2.87it/s]\rAverage Metric: 0.79 / 2 (39.3%):  14%|█▌         | 1/7 [00:00<00:02,  2.87it/s]\rAverage Metric: 1.29 / 3 (42.9%):  29%|███▏       | 2/7 [00:00<00:01,  2.87it/s]\rAverage Metric: 1.29 / 3 (42.9%):  43%|████▋      | 3/7 [00:00<00:01,  3.37it/s]\rAverage Metric: 1.79 / 4 (44.6%):  43%|████▋      | 3/7 [00:00<00:01,  3.37it/s]\rAverage Metric: 2.29 / 5 (45.7%):  57%|██████▎    | 4/7 [00:01<00:00,  3.37it/s]\rAverage Metric: 2.29 / 5 (45.7%):  71%|███████▊   | 5/7 [00:01<00:00,  5.40it/s]\rAverage Metric: 2.62 / 6 (43.7%):  71%|███████▊   | 5/7 [00:01<00:00,  5.40it/s]\rAverage Metric: 2.62 / 7 (37.4%):  86%|█████████▍ | 6/7 [00:01<00:00,  5.40it/s]\rAverage Metric: 2.62 / 7 (37.4%): 100%|███████████| 7/7 [00:01<00:00,  3.51it/s]\rAverage Metric: 2.62 / 7 (37.4%): 100%|███████████| 7/7 [00:01<00:00,  3.67it/s]\r\n2025/05/26 20:21:44 INFO dspy.evaluate.evaluate: Average Metric: 2.619047619047619 / 7 (37.4%)\r\n2025/05/26 20:21:44 INFO dspy.teleprompt.mipro_optimizer_v2: \u001B[92mBest full score so far!\u001B[0m Score: 37.41\r\n2025/05/26 20:21:44 INFO dspy.teleprompt.mipro_optimizer_v2: Score: 37.41 with parameters ['Predictor 0: Instruction 4', 'Predictor 0: Few-Shot Set 1'].\r\n2025/05/26 20:21:44 INFO dspy.teleprompt.mipro_optimizer_v2: Scores so far: [26.01, 25.51, 25.51, 37.41]\r\n2025/05/26 20:21:44 INFO dspy.teleprompt.mipro_optimizer_v2: Best score so far: 37.41\r\n2025/05/26 20:21:44 INFO dspy.teleprompt.mipro_optimizer_v2: =======================\r\n\r\n\r\n2025/05/26 20:21:44 INFO dspy.teleprompt.mipro_optimizer_v2: ===== Trial 5 / 7 =====\r\n\r  0%|                                                     | 0/7 [00:00<?, ?it/s]\rAverage Metric: 0.50 / 1 (50.0%):   0%|                   | 0/7 [00:00<?, ?it/s]\rAverage Metric: 0.50 / 1 (50.0%):  14%|█▌         | 1/7 [00:00<00:01,  3.12it/s]\rAverage Metric: 1.00 / 2 (50.0%):  14%|█▌         | 1/7 [00:00<00:01,  3.12it/s]\rAverage Metric: 1.00 / 2 (50.0%):  29%|███▏       | 2/7 [00:00<00:01,  4.27it/s]\rAverage Metric: 1.29 / 3 (42.9%):  29%|███▏       | 2/7 [00:00<00:01,  4.27it/s]\rAverage Metric: 1.29 / 4 (32.1%):  43%|████▋      | 3/7 [00:01<00:00,  4.27it/s]\rAverage Metric: 1.29 / 4 (32.1%):  57%|██████▎    | 4/7 [00:01<00:00,  3.51it/s]\rAverage Metric: 1.29 / 5 (25.7%):  57%|██████▎    | 4/7 [00:01<00:00,  3.51it/s]\rAverage Metric: 1.29 / 6 (21.4%):  71%|███████▊   | 5/7 [00:01<00:00,  3.51it/s]\rAverage Metric: 1.79 / 7 (25.5%):  86%|█████████▍ | 6/7 [00:01<00:00,  3.51it/s]\rAverage Metric: 1.79 / 7 (25.5%): 100%|███████████| 7/7 [00:01<00:00,  6.11it/s]\r\n2025/05/26 20:21:45 INFO dspy.evaluate.evaluate: Average Metric: 1.7857142857142858 / 7 (25.5%)\r\n2025/05/26 20:21:45 INFO dspy.teleprompt.mipro_optimizer_v2: Score: 25.51 with parameters ['Predictor 0: Instruction 2', 'Predictor 0: Few-Shot Set 1'].\r\n2025/05/26 20:21:45 INFO dspy.teleprompt.mipro_optimizer_v2: Scores so far: [26.01, 25.51, 25.51, 37.41, 25.51]\r\n2025/05/26 20:21:45 INFO dspy.teleprompt.mipro_optimizer_v2: Best score so far: 37.41\r\n2025/05/26 20:21:45 INFO dspy.teleprompt.mipro_optimizer_v2: =======================\r\n\r\n\r\n2025/05/26 20:21:45 INFO dspy.teleprompt.mipro_optimizer_v2: ===== Trial 6 / 7 =====\r\n\r  0%|                                                     | 0/7 [00:00<?, ?it/s]\rAverage Metric: 0.50 / 1 (50.0%):   0%|                   | 0/7 [00:00<?, ?it/s]\rAverage Metric: 0.50 / 1 (50.0%):  14%|█▌         | 1/7 [00:00<00:04,  1.24it/s]\rAverage Metric: 0.50 / 2 (25.0%):  14%|█▌         | 1/7 [00:01<00:04,  1.24it/s]\rAverage Metric: 0.50 / 2 (25.0%):  29%|███▏       | 2/7 [00:01<00:02,  1.97it/s]\rAverage Metric: 1.00 / 3 (33.3%):  29%|███▏       | 2/7 [00:01<00:02,  1.97it/s]\rAverage Metric: 1.50 / 4 (37.5%):  43%|████▋      | 3/7 [00:01<00:02,  1.97it/s]\rAverage Metric: 2.00 / 5 (40.0%):  57%|██████▎    | 4/7 [00:01<00:01,  1.97it/s]\rAverage Metric: 2.00 / 5 (40.0%):  71%|███████▊   | 5/7 [00:01<00:00,  3.28it/s]\rAverage Metric: 2.00 / 6 (33.3%):  71%|███████▊   | 5/7 [00:01<00:00,  3.28it/s]\rAverage Metric: 2.50 / 7 (35.7%):  86%|█████████▍ | 6/7 [00:01<00:00,  3.28it/s]\rAverage Metric: 2.50 / 7 (35.7%): 100%|███████████| 7/7 [00:01<00:00,  3.90it/s]\r\n2025/05/26 20:21:47 INFO dspy.evaluate.evaluate: Average Metric: 2.5 / 7 (35.7%)\r\n2025/05/26 20:21:47 INFO dspy.teleprompt.mipro_optimizer_v2: Score: 35.71 with parameters ['Predictor 0: Instruction 4', 'Predictor 0: Few-Shot Set 3'].\r\n2025/05/26 20:21:47 INFO dspy.teleprompt.mipro_optimizer_v2: Scores so far: [26.01, 25.51, 25.51, 37.41, 25.51, 35.71]\r\n2025/05/26 20:21:47 INFO dspy.teleprompt.mipro_optimizer_v2: Best score so far: 37.41\r\n2025/05/26 20:21:47 INFO dspy.teleprompt.mipro_optimizer_v2: =======================\r\n\r\n\r\n2025/05/26 20:21:47 INFO dspy.teleprompt.mipro_optimizer_v2: ===== Trial 7 / 7 =====\r\n\r  0%|                                                     | 0/7 [00:00<?, ?it/s]\rAverage Metric: 0.29 / 1 (28.6%):   0%|                   | 0/7 [00:00<?, ?it/s]\rAverage Metric: 0.29 / 1 (28.6%):  14%|█▌         | 1/7 [00:00<00:02,  2.39it/s]\rAverage Metric: 0.29 / 2 (14.3%):  14%|█▌         | 1/7 [00:01<00:02,  2.39it/s]\rAverage Metric: 0.29 / 2 (14.3%):  29%|███▏       | 2/7 [00:01<00:02,  1.69it/s]\rAverage Metric: 0.79 / 3 (26.2%):  29%|███▏       | 2/7 [00:01<00:02,  1.69it/s]\rAverage Metric: 1.29 / 4 (32.1%):  43%|████▋      | 3/7 [00:01<00:02,  1.69it/s]\rAverage Metric: 1.29 / 5 (25.7%):  57%|██████▎    | 4/7 [00:01<00:01,  1.69it/s]\rAverage Metric: 1.79 / 6 (29.8%):  71%|███████▊   | 5/7 [00:01<00:01,  1.69it/s]\rAverage Metric: 1.79 / 6 (29.8%):  86%|█████████▍ | 6/7 [00:01<00:00,  3.50it/s]\rAverage Metric: 1.79 / 7 (25.5%):  86%|█████████▍ | 6/7 [00:02<00:00,  3.50it/s]\rAverage Metric: 1.79 / 7 (25.5%): 100%|███████████| 7/7 [00:02<00:00,  4.01it/s]\rAverage Metric: 1.79 / 7 (25.5%): 100%|███████████| 7/7 [00:02<00:00,  3.45it/s]\r\n2025/05/26 20:21:49 INFO dspy.evaluate.evaluate: Average Metric: 1.7857142857142858 / 7 (25.5%)\r\n2025/05/26 20:21:49 INFO dspy.teleprompt.mipro_optimizer_v2: Score: 25.51 with parameters ['Predictor 0: Instruction 0', 'Predictor 0: Few-Shot Set 1'].\r\n2025/05/26 20:21:49 INFO dspy.teleprompt.mipro_optimizer_v2: Scores so far: [26.01, 25.51, 25.51, 37.41, 25.51, 35.71, 25.51]\r\n2025/05/26 20:21:49 INFO dspy.teleprompt.mipro_optimizer_v2: Best score so far: 37.41\r\n2025/05/26 20:21:49 INFO dspy.teleprompt.mipro_optimizer_v2: =======================\r\n\r\n\r\n2025/05/26 20:21:49 INFO dspy.teleprompt.mipro_optimizer_v2: Returning best identified program with score 37.41!\r\n\r\n=== Optimization Complete ===\r\nResults saved to: /Workspace/Users/anusha_7777@yahoo.com/databricks-prompt-ops-example/results/hotpotqa_databricks_20250526_202100.json\r\nResults also saved to: /Workspace/Users/anusha_7777@yahoo.com/databricks-prompt-ops-example/results/hotpotqa_databricks_20250526_202100.yaml\r\n\r\nOptimized prompt:\r\n================================================================================\r\n<s> You are a knowledgeable assistant capable of answering complex questions by analyzing the given context and extracting relevant information. Provide a concise answer to the question based on the provided context. </s>\r\n================================================================================\r\n"
     ]
    }
   ],
   "source": [
    "!llama-prompt-ops migrate --config hotpotqa_databricks.yaml --api-key-env DATABRICKS_API_TOKEN --log-level CRITICAL"
   ]
  },
  {
   "cell_type": "code",
   "execution_count": 0,
   "metadata": {
    "application/vnd.databricks.v1+cell": {
     "cellMetadata": {},
     "inputWidgets": {},
     "nuid": "0c02b6b2-5b4e-4542-ad3a-36f6624c19a3",
     "showTitle": false,
     "tableResultSettingsMap": {},
     "title": ""
    }
   },
   "outputs": [],
   "source": []
  }
 ],
 "metadata": {
  "application/vnd.databricks.v1+notebook": {
   "computePreferences": null,
   "dashboards": [],
   "environmentMetadata": {
    "base_environment": "",
    "environment_version": "2"
   },
   "inputWidgetPreferences": null,
   "language": "python",
   "notebookMetadata": {
    "pythonIndentUnit": 4
   },
   "notebookName": "hotpotqa_prompt_ops",
   "widgets": {}
  },
  "language_info": {
   "name": "python"
  }
 },
 "nbformat": 4,
 "nbformat_minor": 0
}