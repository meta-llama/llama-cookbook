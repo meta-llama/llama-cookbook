{
 "cells": [
  {
   "cell_type": "markdown",
   "metadata": {
    "application/vnd.databricks.v1+cell": {
     "cellMetadata": {},
     "inputWidgets": {},
     "nuid": "b5da7480-aaca-44c4-a832-3d1cfbfb84f5",
     "showTitle": false,
     "tableResultSettingsMap": {},
     "title": ""
    }
   },
   "source": [
    "## Overview\n",
    "\n",
    "This notebook demonstrates how to leverage [llama-prompt-ops](https://github.com/meta-llama/llama-prompt-ops) to optimize prompts for an *HTS code classification* task.  It leverages existing question(description)-answer(hts_code) data in Databricks and includes a custom metric to match output format.\n",
    "\n",
    "It covers:\n",
    "\n",
    "1. **Data Preparation:** Sampling data from a Databricks table (ID, description, HTS code), then storing it as a JSON file.\n",
    "\n",
    "2. **Configuration:** Setting up a YAML file with Databricks model configurations and defining a custom metric to validate HTS code format.\n",
    "\n",
    "3. **Prompt Optimization:** Executing the *llama-prompt-ops migrate* command to optimize prompts.\n",
    "\n",
    "4. **Results:** Optimized prompts will be saved in the results folder. \n"
   ]
  },
  {
   "cell_type": "code",
   "execution_count": 0,
   "metadata": {
    "application/vnd.databricks.v1+cell": {
     "cellMetadata": {},
     "inputWidgets": {},
     "nuid": "0f5b0046-19cb-43af-af86-f2b3922820f2",
     "showTitle": false,
     "tableResultSettingsMap": {},
     "title": ""
    }
   },
   "outputs": [],
   "source": [
    "!pip install llama-prompt-ops python-dotenv\n",
    "dbutils.library.restartPython()"
   ]
  },
  {
   "cell_type": "markdown",
   "metadata": {
    "application/vnd.databricks.v1+cell": {
     "cellMetadata": {},
     "inputWidgets": {},
     "nuid": "d29eaa68-19ad-48b0-824e-bc12886315ce",
     "showTitle": false,
     "tableResultSettingsMap": {},
     "title": ""
    }
   },
   "source": [
    "### 1. Data prep\n",
    "- Prepare question, answer json dataset "
   ]
  },
  {
   "cell_type": "code",
   "execution_count": 0,
   "metadata": {
    "application/vnd.databricks.v1+cell": {
     "cellMetadata": {
      "byteLimit": 2048000,
      "rowLimit": 10000
     },
     "inputWidgets": {},
     "nuid": "c8bf2fd0-b887-4d3f-ba63-7d410011ffd3",
     "showTitle": false,
     "tableResultSettingsMap": {},
     "title": ""
    }
   },
   "outputs": [],
   "source": [
    "import json\n",
    "df = spark.sql(\"SELECT * FROM workspace.default.hts_description ORDER BY RAND() LIMIT 100\")\n",
    "json_data = df.toPandas().to_json(orient='records')\n",
    "json_list = json.loads(json_data)\n"
   ]
  },
  {
   "cell_type": "code",
   "execution_count": 0,
   "metadata": {
    "application/vnd.databricks.v1+cell": {
     "cellMetadata": {
      "byteLimit": 2048000,
      "rowLimit": 10000
     },
     "inputWidgets": {},
     "nuid": "4dcfc88c-e243-47d0-85ad-7d464374aeb9",
     "showTitle": false,
     "tableResultSettingsMap": {},
     "title": ""
    }
   },
   "outputs": [],
   "source": [
    "import json\n",
    "\n",
    "file_path = \"hts_classification_sample.json\"\n",
    "with open(file_path, 'w') as file:\n",
    "    json.dump(json_list, file)"
   ]
  },
  {
   "cell_type": "markdown",
   "metadata": {
    "application/vnd.databricks.v1+cell": {
     "cellMetadata": {},
     "inputWidgets": {},
     "nuid": "70b968b3-7404-43fc-a720-e11915241bce",
     "showTitle": false,
     "tableResultSettingsMap": {},
     "title": ""
    }
   },
   "source": [
    "### 2. Configure hts_classification.yaml\n",
    " - Update model name and base url"
   ]
  },
  {
   "cell_type": "code",
   "execution_count": 0,
   "metadata": {
    "application/vnd.databricks.v1+cell": {
     "cellMetadata": {
      "byteLimit": 2048000,
      "rowLimit": 10000
     },
     "inputWidgets": {},
     "nuid": "4ba3c141-94ea-4208-b9d0-9eb17194d8ca",
     "showTitle": false,
     "tableResultSettingsMap": {},
     "title": ""
    }
   },
   "outputs": [],
   "source": [
    "from dotenv import load_dotenv\n",
    "import os\n",
    "\n",
    "load_dotenv()\n",
    "os.environ[\"DATABRICKS_API_TOKEN\"] = os.getenv(\"DATABRICKS_API_TOKEN\")"
   ]
  },
  {
   "cell_type": "markdown",
   "metadata": {
    "application/vnd.databricks.v1+cell": {
     "cellMetadata": {},
     "inputWidgets": {},
     "nuid": "5ed2893e-4f40-4abd-9ac1-3a3f5d22e347",
     "showTitle": false,
     "tableResultSettingsMap": {},
     "title": ""
    }
   },
   "source": [
    "### 3. Create Custom metric if needed\n",
    "- hts_metric.py"
   ]
  },
  {
   "cell_type": "markdown",
   "metadata": {
    "application/vnd.databricks.v1+cell": {
     "cellMetadata": {},
     "inputWidgets": {},
     "nuid": "3e022e5e-d340-4b72-b6b0-a0c7d540fecc",
     "showTitle": false,
     "tableResultSettingsMap": {},
     "title": ""
    }
   },
   "source": [
    "### 4. Execute llama-prompt-ops migrate"
   ]
  },
  {
   "cell_type": "code",
   "execution_count": 0,
   "metadata": {
    "application/vnd.databricks.v1+cell": {
     "cellMetadata": {
      "byteLimit": 2048000,
      "rowLimit": 10000
     },
     "inputWidgets": {},
     "nuid": "4166d688-7fc1-4056-a410-d696f405b791",
     "showTitle": false,
     "tableResultSettingsMap": {},
     "title": ""
    }
   },
   "outputs": [
    {
     "name": "stdout",
     "output_type": "stream",
     "text": [
      "Loaded environment variables from .env\r\n",
      "Loaded configuration from hts_classification.yaml\r\n",
      " Using model with DSPy: databricks/maverick\r\n",
      "Using the same model for task and proposer: databricks/maverick\r\n",
      "Using metric: HTSCodeMetric\r\n",
      "Resolved relative dataset path to: /Workspace/Users/anusha_7777@yahoo.com/databricks-prompt-ops-example/hts_classification_sample.json\r\n",
      "Using dataset adapter: ConfigurableJSONAdapter\r\n",
      "Auto-detected BasicOptimizationStrategy for model: maverick\r\n",
      "Using 'system_prompt' from config\r\n",
      "Using output prefix from config: hts_classification\r\n",
      "Starting prompt optimization...\r\n",
      "2025/05/26 21:33:25 INFO dspy.teleprompt.mipro_optimizer_v2: \r\n",
      "RUNNING WITH THE FOLLOWING LIGHT AUTO RUN SETTINGS:\r\n",
      "num_trials: 7\r\n",
      "minibatch: False\r\n",
      "num_candidates: 5\r\n",
      "valset size: 15\r\n",
      "\r\n",
      "2025/05/26 21:33:25 INFO dspy.teleprompt.mipro_optimizer_v2: \r\n",
      "==> STEP 1: BOOTSTRAP FEWSHOT EXAMPLES <==\r\n",
      "2025/05/26 21:33:25 INFO dspy.teleprompt.mipro_optimizer_v2: These will be used as few-shot example candidates for our program and for creating instructions.\r\n",
      "\r\n",
      "2025/05/26 21:33:25 INFO dspy.teleprompt.mipro_optimizer_v2: Bootstrapping N=5 sets of demonstrations...\r\n",
      "Bootstrapping set 1/5\r\n",
      "Bootstrapping set 2/5\r\n",
      "Bootstrapping set 3/5\r\n",
      "\r  0%|                                                    | 0/70 [00:00<?, ?it/s]Gold value: 8459290050\r\n",
      "Predicted value: 8459210160\r\n",
      "\r  1%|▋                                           | 1/70 [00:01<01:11,  1.03s/it]Gold value: 5408339050\r\n",
      "Predicted value: 5407540090\r\n",
      "\r  3%|█▎                                          | 2/70 [00:01<00:37,  1.80it/s]Gold value: 1901906000\r\n",
      "Predicted value: 1901909085\r\n",
      "\r  4%|█▉                                          | 3/70 [00:01<00:28,  2.35it/s]Gold value: 5211590090\r\n",
      "Predicted value: 5210516020\r\n",
      "\r  6%|██▌                                         | 4/70 [00:01<00:23,  2.79it/s]\r  6%|██▌                                         | 4/70 [00:01<00:29,  2.24it/s]\r\n",
      "Bootstrapped 4 full traces after 4 examples for up to 1 rounds, amounting to 4 attempts.\r\n",
      "Bootstrapping set 4/5\r\n",
      "\r  0%|                                                    | 0/70 [00:00<?, ?it/s]Gold value: 9031200000\r\n",
      "Predicted value: 9031200000\r\n",
      "\r  1%|▋                                           | 1/70 [00:00<00:20,  3.29it/s]\r  1%|▋                                           | 1/70 [00:00<00:21,  3.28it/s]\r\n",
      "Bootstrapped 1 full traces after 1 examples for up to 1 rounds, amounting to 1 attempts.\r\n",
      "Bootstrapping set 5/5\r\n",
      "\r  0%|                                                    | 0/70 [00:00<?, ?it/s]Gold value: 5113000000\r\n",
      "Predicted value: 5111302000\r\n",
      "\r  1%|▋                                           | 1/70 [00:00<00:18,  3.76it/s]Gold value: 6112194040\r\n",
      "Predicted value: 6112111000\r\n",
      "\r  3%|█▎                                          | 2/70 [00:00<00:18,  3.65it/s]\r  3%|█▎                                          | 2/70 [00:00<00:18,  3.66it/s]\r\n",
      "Bootstrapped 2 full traces after 2 examples for up to 1 rounds, amounting to 2 attempts.\r\n",
      "2025/05/26 21:33:27 INFO dspy.teleprompt.mipro_optimizer_v2: \r\n",
      "==> STEP 2: PROPOSE INSTRUCTION CANDIDATES <==\r\n",
      "2025/05/26 21:33:27 INFO dspy.teleprompt.mipro_optimizer_v2: We will use the few-shot examples from the previous step, a generated dataset summary, a summary of the program code, and a randomly selected prompting tip to propose instructions.\r\n",
      "2025/05/26 21:33:30 INFO dspy.teleprompt.mipro_optimizer_v2: \r\n",
      "Proposing instructions...\r\n",
      "\r\n",
      "2025/05/26 21:33:36 INFO dspy.teleprompt.mipro_optimizer_v2: Proposed Instructions for Predictor 0:\r\n",
      "\r\n",
      "2025/05/26 21:33:36 INFO dspy.teleprompt.mipro_optimizer_v2: 0: You are an expert at classifying products into Harmonized Tariff Schedule (HTS) codes. \r\n",
      "Given a product description, assign the most appropriate HTS code.\r\n",
      "Provide only the HTS code as output, without any additional explanation.\r\n",
      "\r\n",
      "2025/05/26 21:33:36 INFO dspy.teleprompt.mipro_optimizer_v2: 1: You are a customs classification expert specializing in the Harmonized Tariff Schedule (HTS) codes for international trade. Your task is to accurately predict the HTS code for a given product description. Analyze the product description carefully and provide the most appropriate HTS code. Output only the HTS code without any additional explanation or context.\r\n",
      "\r\n",
      "2025/05/26 21:33:36 INFO dspy.teleprompt.mipro_optimizer_v2: 2: Classify the given product description into the most appropriate Harmonized Tariff Schedule (HTS) code. Provide the HTS code as the output.\r\n",
      "\r\n",
      "2025/05/26 21:33:36 INFO dspy.teleprompt.mipro_optimizer_v2: 3: You are a highly skilled customs classifier with expertise in the Harmonized Tariff Schedule (HTS). Your task is to accurately classify product descriptions into their corresponding HTS codes. To achieve this, carefully analyze the given product description, identifying key features and materials that determine its classification. Utilize your knowledge of the HTS code structure and classification principles to predict the most appropriate HTS code. Provide the predicted HTS code as output, ensuring it is precise and in the correct\r\n",
      "\r\n",
      "2025/05/26 21:33:36 INFO dspy.teleprompt.mipro_optimizer_v2: 4: You are a highly skilled classifier specializing in Harmonized Tariff Schedule (HTS) codes. Your task is to analyze detailed product descriptions and predict the most accurate HTS code. To achieve this, carefully examine the product description, identifying key features, materials, and functions that are relevant for HTS classification. Use your expertise to match the description with the appropriate HTS code. Provide the HTS code as the output, ensuring it is precise and directly relevant to the\r\n",
      "\r\n",
      "2025/05/26 21:33:36 INFO dspy.teleprompt.mipro_optimizer_v2: \r\n",
      "\r\n",
      "2025/05/26 21:33:36 INFO dspy.teleprompt.mipro_optimizer_v2: ==> STEP 3: FINDING OPTIMAL PROMPT PARAMETERS <==\r\n",
      "2025/05/26 21:33:36 INFO dspy.teleprompt.mipro_optimizer_v2: We will evaluate the program over a series of trials with different combinations of instructions and few-shot examples to find the optimal combination using Bayesian Optimization.\r\n",
      "\r\n",
      "2025/05/26 21:33:36 INFO dspy.teleprompt.mipro_optimizer_v2: == Trial 1 / 7 - Full Evaluation of Default Program ==\r\n",
      "\r  0%|                                                    | 0/15 [00:00<?, ?it/s]\rAverage Metric: 0.00 / 1 (0.0%):   0%|                   | 0/15 [00:00<?, ?it/s]\rAverage Metric: 0.00 / 1 (0.0%):   7%|▋          | 1/15 [00:00<00:01,  8.85it/s]\rAverage Metric: 0.00 / 2 (0.0%):   7%|▋          | 1/15 [00:00<00:01,  8.85it/s]\rAverage Metric: 0.00 / 3 (0.0%):  13%|█▍         | 2/15 [00:00<00:01,  8.85it/s]\rAverage Metric: 0.00 / 4 (0.0%):  20%|██▏        | 3/15 [00:00<00:01,  8.85it/s]\rAverage Metric: 1.00 / 5 (20.0%):  27%|██▋       | 4/15 [00:00<00:01,  8.85it/s]\rAverage Metric: 1.00 / 6 (16.7%):  33%|███▎      | 5/15 [00:00<00:01,  8.85it/s]\rAverage Metric: 1.00 / 7 (14.3%):  40%|████      | 6/15 [00:00<00:01,  8.85it/s]\rAverage Metric: 1.00 / 8 (12.5%):  47%|████▋     | 7/15 [00:00<00:00,  8.85it/s]\rAverage Metric: 1.00 / 9 (11.1%):  53%|█████▎    | 8/15 [00:00<00:00,  8.85it/s]\rAverage Metric: 1.00 / 10 (10.0%):  60%|█████▍   | 9/15 [00:00<00:00,  8.85it/s]\rAverage Metric: 1.00 / 10 (10.0%):  67%|█████▎  | 10/15 [00:00<00:00, 51.68it/s]\rAverage Metric: 1.00 / 11 (9.1%):  67%|██████   | 10/15 [00:00<00:00, 51.68it/s]\rAverage Metric: 1.00 / 12 (8.3%):  73%|██████▌  | 11/15 [00:00<00:00, 51.68it/s]\rAverage Metric: 1.00 / 13 (7.7%):  80%|███████▏ | 12/15 [00:00<00:00, 51.68it/s]\rAverage Metric: 1.00 / 14 (7.1%):  87%|███████▊ | 13/15 [00:00<00:00, 51.68it/s]\rAverage Metric: 1.00 / 15 (6.7%):  93%|████████▍| 14/15 [00:00<00:00, 51.68it/s]\rAverage Metric: 1.00 / 15 (6.7%): 100%|█████████| 15/15 [00:00<00:00, 62.17it/s]\r\n",
      "2025/05/26 21:33:36 INFO dspy.evaluate.evaluate: Average Metric: 1.0 / 15 (6.7%)\r\n",
      "2025/05/26 21:33:36 INFO dspy.teleprompt.mipro_optimizer_v2: Default program score: 6.67\r\n",
      "\r\n",
      "/local_disk0/.ephemeral_nfs/envs/pythonEnv-46bfdc5b-8476-4201-bfb8-e14dc5f54273/lib/python3.11/site-packages/optuna/_experimental.py:31: ExperimentalWarning: Argument ``multivariate`` is an experimental feature. The interface can change in the future.\r\n",
      "  warnings.warn(\r\n",
      "2025/05/26 21:33:36 INFO dspy.teleprompt.mipro_optimizer_v2: ===== Trial 2 / 7 =====\r\n",
      "\r  0%|                                                    | 0/15 [00:00<?, ?it/s]\rAverage Metric: 0.00 / 1 (0.0%):   0%|                   | 0/15 [00:00<?, ?it/s]\rAverage Metric: 0.00 / 1 (0.0%):   7%|▋          | 1/15 [00:00<00:01,  9.47it/s]\rAverage Metric: 1.00 / 2 (50.0%):   7%|▋         | 1/15 [00:00<00:01,  9.47it/s]\rAverage Metric: 2.00 / 3 (66.7%):  13%|█▎        | 2/15 [00:00<00:01,  9.47it/s]\rAverage Metric: 3.00 / 4 (75.0%):  20%|██        | 3/15 [00:00<00:01,  9.47it/s]\rAverage Metric: 4.00 / 5 (80.0%):  27%|██▋       | 4/15 [00:00<00:01,  9.47it/s]\rAverage Metric: 5.00 / 6 (83.3%):  33%|███▎      | 5/15 [00:00<00:01,  9.47it/s]\rAverage Metric: 6.00 / 7 (85.7%):  40%|████      | 6/15 [00:00<00:00,  9.47it/s]\rAverage Metric: 7.00 / 8 (87.5%):  47%|████▋     | 7/15 [00:00<00:00,  9.47it/s]\rAverage Metric: 8.00 / 9 (88.9%):  53%|█████▎    | 8/15 [00:00<00:00,  9.47it/s]\rAverage Metric: 9.00 / 10 (90.0%):  60%|█████▍   | 9/15 [00:00<00:00,  9.47it/s]\rAverage Metric: 10.00 / 11 (90.9%):  67%|████▋  | 10/15 [00:00<00:00,  9.47it/s]\rAverage Metric: 11.00 / 12 (91.7%):  73%|█████▏ | 11/15 [00:00<00:00,  9.47it/s]\rAverage Metric: 12.00 / 13 (92.3%):  80%|█████▌ | 12/15 [00:00<00:00,  9.47it/s]\rAverage Metric: 12.00 / 13 (92.3%):  87%|██████ | 13/15 [00:00<00:00, 72.79it/s]\rAverage Metric: 13.00 / 14 (92.9%):  87%|██████ | 13/15 [00:00<00:00, 72.79it/s]\rAverage Metric: 14.00 / 15 (93.3%):  93%|██████▌| 14/15 [00:00<00:00, 72.79it/s]\rAverage Metric: 14.00 / 15 (93.3%): 100%|███████| 15/15 [00:00<00:00, 66.97it/s]\r\n",
      "2025/05/26 21:33:37 INFO dspy.evaluate.evaluate: Average Metric: 14.0 / 15 (93.3%)\r\n",
      "2025/05/26 21:33:37 INFO dspy.teleprompt.mipro_optimizer_v2: \u001b[92mBest full score so far!\u001b[0m Score: 93.33\r\n",
      "2025/05/26 21:33:37 INFO dspy.teleprompt.mipro_optimizer_v2: Score: 93.33 with parameters ['Predictor 0: Instruction 1', 'Predictor 0: Few-Shot Set 1'].\r\n",
      "2025/05/26 21:33:37 INFO dspy.teleprompt.mipro_optimizer_v2: Scores so far: [6.67, 93.33]\r\n",
      "2025/05/26 21:33:37 INFO dspy.teleprompt.mipro_optimizer_v2: Best score so far: 93.33\r\n",
      "2025/05/26 21:33:37 INFO dspy.teleprompt.mipro_optimizer_v2: =======================\r\n",
      "\r\n",
      "\r\n",
      "2025/05/26 21:33:37 INFO dspy.teleprompt.mipro_optimizer_v2: ===== Trial 3 / 7 =====\r\n",
      "\r  0%|                                                    | 0/15 [00:00<?, ?it/s]\rAverage Metric: 1.00 / 1 (100.0%):   0%|                 | 0/15 [00:00<?, ?it/s]\rAverage Metric: 1.00 / 1 (100.0%):   7%|▌        | 1/15 [00:00<00:02,  6.55it/s]\rAverage Metric: 1.00 / 2 (50.0%):   7%|▋         | 1/15 [00:00<00:02,  6.55it/s]\rAverage Metric: 2.00 / 3 (66.7%):  13%|█▎        | 2/15 [00:00<00:01,  6.55it/s]\rAverage Metric: 3.00 / 4 (75.0%):  20%|██        | 3/15 [00:00<00:01,  6.55it/s]\rAverage Metric: 4.00 / 5 (80.0%):  27%|██▋       | 4/15 [00:00<00:01,  6.55it/s]\rAverage Metric: 5.00 / 6 (83.3%):  33%|███▎      | 5/15 [00:00<00:01,  6.55it/s]\rAverage Metric: 6.00 / 7 (85.7%):  40%|████      | 6/15 [00:00<00:01,  6.55it/s]\rAverage Metric: 7.00 / 8 (87.5%):  47%|████▋     | 7/15 [00:00<00:01,  6.55it/s]\rAverage Metric: 8.00 / 9 (88.9%):  53%|█████▎    | 8/15 [00:00<00:01,  6.55it/s]\rAverage Metric: 8.00 / 9 (88.9%):  60%|██████    | 9/15 [00:00<00:00, 40.39it/s]\rAverage Metric: 9.00 / 10 (90.0%):  60%|█████▍   | 9/15 [00:00<00:00, 40.39it/s]\rAverage Metric: 10.00 / 11 (90.9%):  67%|████▋  | 10/15 [00:00<00:00, 40.39it/s]\rAverage Metric: 11.00 / 12 (91.7%):  73%|█████▏ | 11/15 [00:00<00:00, 40.39it/s]\rAverage Metric: 12.00 / 13 (92.3%):  80%|█████▌ | 12/15 [00:00<00:00, 40.39it/s]\rAverage Metric: 13.00 / 14 (92.9%):  87%|██████ | 13/15 [00:00<00:00, 40.39it/s]\rAverage Metric: 14.00 / 15 (93.3%):  93%|██████▌| 14/15 [00:00<00:00, 40.39it/s]\rAverage Metric: 14.00 / 15 (93.3%): 100%|███████| 15/15 [00:00<00:00, 53.47it/s]\r\n",
      "2025/05/26 21:33:37 INFO dspy.evaluate.evaluate: Average Metric: 14.0 / 15 (93.3%)\r\n",
      "2025/05/26 21:33:37 INFO dspy.teleprompt.mipro_optimizer_v2: Score: 93.33 with parameters ['Predictor 0: Instruction 2', 'Predictor 0: Few-Shot Set 1'].\r\n",
      "2025/05/26 21:33:37 INFO dspy.teleprompt.mipro_optimizer_v2: Scores so far: [6.67, 93.33, 93.33]\r\n",
      "2025/05/26 21:33:37 INFO dspy.teleprompt.mipro_optimizer_v2: Best score so far: 93.33\r\n",
      "2025/05/26 21:33:37 INFO dspy.teleprompt.mipro_optimizer_v2: =======================\r\n",
      "\r\n",
      "\r\n",
      "2025/05/26 21:33:37 INFO dspy.teleprompt.mipro_optimizer_v2: ===== Trial 4 / 7 =====\r\n",
      "\r  0%|                                                    | 0/15 [00:00<?, ?it/s]\rAverage Metric: 1.00 / 1 (100.0%):   0%|                 | 0/15 [00:00<?, ?it/s]\rAverage Metric: 1.00 / 1 (100.0%):   7%|▌        | 1/15 [00:00<00:02,  6.38it/s]\rAverage Metric: 1.00 / 2 (50.0%):   7%|▋         | 1/15 [00:00<00:02,  6.38it/s]\rAverage Metric: 2.00 / 3 (66.7%):  13%|█▎        | 2/15 [00:00<00:02,  6.38it/s]\rAverage Metric: 3.00 / 4 (75.0%):  20%|██        | 3/15 [00:00<00:01,  6.38it/s]\rAverage Metric: 4.00 / 5 (80.0%):  27%|██▋       | 4/15 [00:00<00:01,  6.38it/s]\rAverage Metric: 5.00 / 6 (83.3%):  33%|███▎      | 5/15 [00:00<00:01,  6.38it/s]\rAverage Metric: 6.00 / 7 (85.7%):  40%|████      | 6/15 [00:00<00:01,  6.38it/s]\rAverage Metric: 7.00 / 8 (87.5%):  47%|████▋     | 7/15 [00:00<00:01,  6.38it/s]\rAverage Metric: 7.00 / 8 (87.5%):  53%|█████▎    | 8/15 [00:00<00:00, 35.87it/s]\rAverage Metric: 8.00 / 9 (88.9%):  53%|█████▎    | 8/15 [00:00<00:00, 35.87it/s]\rAverage Metric: 9.00 / 10 (90.0%):  60%|█████▍   | 9/15 [00:00<00:00, 35.87it/s]\rAverage Metric: 10.00 / 11 (90.9%):  67%|████▋  | 10/15 [00:00<00:00, 35.87it/s]\rAverage Metric: 11.00 / 12 (91.7%):  73%|█████▏ | 11/15 [00:00<00:00, 35.87it/s]\rAverage Metric: 12.00 / 13 (92.3%):  80%|█████▌ | 12/15 [00:00<00:00, 35.87it/s]\rAverage Metric: 13.00 / 14 (92.9%):  87%|██████ | 13/15 [00:00<00:00, 35.87it/s]\rAverage Metric: 14.00 / 15 (93.3%):  93%|██████▌| 14/15 [00:00<00:00, 35.87it/s]\rAverage Metric: 14.00 / 15 (93.3%): 100%|███████| 15/15 [00:00<00:00, 53.63it/s]\r\n",
      "2025/05/26 21:33:37 INFO dspy.evaluate.evaluate: Average Metric: 14.0 / 15 (93.3%)\r\n",
      "2025/05/26 21:33:37 INFO dspy.teleprompt.mipro_optimizer_v2: Score: 93.33 with parameters ['Predictor 0: Instruction 4', 'Predictor 0: Few-Shot Set 1'].\r\n",
      "2025/05/26 21:33:37 INFO dspy.teleprompt.mipro_optimizer_v2: Scores so far: [6.67, 93.33, 93.33, 93.33]\r\n",
      "2025/05/26 21:33:37 INFO dspy.teleprompt.mipro_optimizer_v2: Best score so far: 93.33\r\n",
      "2025/05/26 21:33:37 INFO dspy.teleprompt.mipro_optimizer_v2: =======================\r\n",
      "\r\n",
      "\r\n",
      "2025/05/26 21:33:37 INFO dspy.teleprompt.mipro_optimizer_v2: ===== Trial 5 / 7 =====\r\n",
      "\r  0%|                                                    | 0/15 [00:00<?, ?it/s]\rAverage Metric: 1.00 / 1 (100.0%):   0%|                 | 0/15 [00:00<?, ?it/s]\rAverage Metric: 1.00 / 1 (100.0%):   7%|▌        | 1/15 [00:00<00:01,  9.97it/s]\rAverage Metric: 2.00 / 2 (100.0%):   7%|▌        | 1/15 [00:00<00:01,  9.97it/s]\rAverage Metric: 2.00 / 3 (66.7%):  13%|█▎        | 2/15 [00:00<00:01,  9.97it/s]\rAverage Metric: 3.00 / 4 (75.0%):  20%|██        | 3/15 [00:00<00:01,  9.97it/s]\rAverage Metric: 4.00 / 5 (80.0%):  27%|██▋       | 4/15 [00:00<00:01,  9.97it/s]\rAverage Metric: 5.00 / 6 (83.3%):  33%|███▎      | 5/15 [00:00<00:01,  9.97it/s]\rAverage Metric: 6.00 / 7 (85.7%):  40%|████      | 6/15 [00:00<00:00,  9.97it/s]\rAverage Metric: 7.00 / 8 (87.5%):  47%|████▋     | 7/15 [00:00<00:00,  9.97it/s]\rAverage Metric: 7.00 / 8 (87.5%):  53%|█████▎    | 8/15 [00:00<00:00, 42.18it/s]\rAverage Metric: 8.00 / 9 (88.9%):  53%|█████▎    | 8/15 [00:00<00:00, 42.18it/s]\rAverage Metric: 9.00 / 10 (90.0%):  60%|█████▍   | 9/15 [00:00<00:00, 42.18it/s]\rAverage Metric: 10.00 / 11 (90.9%):  67%|████▋  | 10/15 [00:00<00:00, 42.18it/s]\rAverage Metric: 11.00 / 12 (91.7%):  73%|█████▏ | 11/15 [00:00<00:00, 42.18it/s]\rAverage Metric: 12.00 / 13 (92.3%):  80%|█████▌ | 12/15 [00:00<00:00, 42.18it/s]\rAverage Metric: 13.00 / 14 (92.9%):  87%|██████ | 13/15 [00:00<00:00, 42.18it/s]\rAverage Metric: 14.00 / 15 (93.3%):  93%|██████▌| 14/15 [00:00<00:00, 42.18it/s]\rAverage Metric: 14.00 / 15 (93.3%): 100%|███████| 15/15 [00:00<00:00, 58.82it/s]\r\n",
      "2025/05/26 21:33:38 INFO dspy.evaluate.evaluate: Average Metric: 14.0 / 15 (93.3%)\r\n",
      "2025/05/26 21:33:38 INFO dspy.teleprompt.mipro_optimizer_v2: Score: 93.33 with parameters ['Predictor 0: Instruction 2', 'Predictor 0: Few-Shot Set 1'].\r\n",
      "2025/05/26 21:33:38 INFO dspy.teleprompt.mipro_optimizer_v2: Scores so far: [6.67, 93.33, 93.33, 93.33, 93.33]\r\n",
      "2025/05/26 21:33:38 INFO dspy.teleprompt.mipro_optimizer_v2: Best score so far: 93.33\r\n",
      "2025/05/26 21:33:38 INFO dspy.teleprompt.mipro_optimizer_v2: =======================\r\n",
      "\r\n",
      "\r\n",
      "2025/05/26 21:33:38 INFO dspy.teleprompt.mipro_optimizer_v2: ===== Trial 6 / 7 =====\r\n",
      "\r  0%|                                                    | 0/15 [00:00<?, ?it/s]\rAverage Metric: 0.00 / 1 (0.0%):   0%|                   | 0/15 [00:00<?, ?it/s]\rAverage Metric: 0.00 / 1 (0.0%):   7%|▋          | 1/15 [00:00<00:01,  7.41it/s]\rAverage Metric: 1.00 / 2 (50.0%):   7%|▋         | 1/15 [00:00<00:01,  7.41it/s]\rAverage Metric: 2.00 / 3 (66.7%):  13%|█▎        | 2/15 [00:00<00:01,  7.41it/s]\rAverage Metric: 3.00 / 4 (75.0%):  20%|██        | 3/15 [00:00<00:01,  7.41it/s]\rAverage Metric: 4.00 / 5 (80.0%):  27%|██▋       | 4/15 [00:00<00:01,  7.41it/s]\rAverage Metric: 5.00 / 6 (83.3%):  33%|███▎      | 5/15 [00:00<00:01,  7.41it/s]\rAverage Metric: 6.00 / 7 (85.7%):  40%|████      | 6/15 [00:00<00:01,  7.41it/s]\rAverage Metric: 7.00 / 8 (87.5%):  47%|████▋     | 7/15 [00:00<00:01,  7.41it/s]\rAverage Metric: 7.00 / 8 (87.5%):  53%|█████▎    | 8/15 [00:00<00:00, 38.31it/s]\rAverage Metric: 8.00 / 9 (88.9%):  53%|█████▎    | 8/15 [00:00<00:00, 38.31it/s]\rAverage Metric: 9.00 / 10 (90.0%):  60%|█████▍   | 9/15 [00:00<00:00, 38.31it/s]\rAverage Metric: 10.00 / 11 (90.9%):  67%|████▋  | 10/15 [00:00<00:00, 38.31it/s]\rAverage Metric: 11.00 / 12 (91.7%):  73%|█████▏ | 11/15 [00:00<00:00, 38.31it/s]\rAverage Metric: 12.00 / 13 (92.3%):  80%|█████▌ | 12/15 [00:00<00:00, 38.31it/s]\rAverage Metric: 13.00 / 14 (92.9%):  87%|██████ | 13/15 [00:00<00:00, 38.31it/s]\rAverage Metric: 14.00 / 15 (93.3%):  93%|██████▌| 14/15 [00:00<00:00, 38.31it/s]\rAverage Metric: 14.00 / 15 (93.3%): 100%|███████| 15/15 [00:00<00:00, 53.91it/s]\r\n",
      "2025/05/26 21:33:38 INFO dspy.evaluate.evaluate: Average Metric: 14.0 / 15 (93.3%)\r\n",
      "2025/05/26 21:33:38 INFO dspy.teleprompt.mipro_optimizer_v2: Score: 93.33 with parameters ['Predictor 0: Instruction 4', 'Predictor 0: Few-Shot Set 3'].\r\n",
      "2025/05/26 21:33:38 INFO dspy.teleprompt.mipro_optimizer_v2: Scores so far: [6.67, 93.33, 93.33, 93.33, 93.33, 93.33]\r\n",
      "2025/05/26 21:33:38 INFO dspy.teleprompt.mipro_optimizer_v2: Best score so far: 93.33\r\n",
      "2025/05/26 21:33:38 INFO dspy.teleprompt.mipro_optimizer_v2: =======================\r\n",
      "\r\n",
      "\r\n",
      "2025/05/26 21:33:38 INFO dspy.teleprompt.mipro_optimizer_v2: ===== Trial 7 / 7 =====\r\n",
      "\r  0%|                                                    | 0/15 [00:00<?, ?it/s]\rAverage Metric: 0.00 / 1 (0.0%):   0%|                   | 0/15 [00:00<?, ?it/s]\rAverage Metric: 0.00 / 1 (0.0%):   7%|▋          | 1/15 [00:00<00:02,  6.42it/s]\rAverage Metric: 1.00 / 2 (50.0%):   7%|▋         | 1/15 [00:00<00:02,  6.42it/s]\rAverage Metric: 2.00 / 3 (66.7%):  13%|█▎        | 2/15 [00:00<00:02,  6.42it/s]\rAverage Metric: 3.00 / 4 (75.0%):  20%|██        | 3/15 [00:00<00:01,  6.42it/s]\rAverage Metric: 4.00 / 5 (80.0%):  27%|██▋       | 4/15 [00:00<00:01,  6.42it/s]\rAverage Metric: 5.00 / 6 (83.3%):  33%|███▎      | 5/15 [00:00<00:01,  6.42it/s]\rAverage Metric: 6.00 / 7 (85.7%):  40%|████      | 6/15 [00:00<00:01,  6.42it/s]\rAverage Metric: 7.00 / 8 (87.5%):  47%|████▋     | 7/15 [00:00<00:01,  6.42it/s]\rAverage Metric: 8.00 / 9 (88.9%):  53%|█████▎    | 8/15 [00:00<00:01,  6.42it/s]\rAverage Metric: 9.00 / 10 (90.0%):  60%|█████▍   | 9/15 [00:00<00:00,  6.42it/s]\rAverage Metric: 10.00 / 11 (90.9%):  67%|████▋  | 10/15 [00:00<00:00,  6.42it/s]\rAverage Metric: 11.00 / 12 (91.7%):  73%|█████▏ | 11/15 [00:00<00:00,  6.42it/s]\rAverage Metric: 11.00 / 12 (91.7%):  80%|█████▌ | 12/15 [00:00<00:00, 53.25it/s]\rAverage Metric: 12.00 / 13 (92.3%):  80%|█████▌ | 12/15 [00:00<00:00, 53.25it/s]\rAverage Metric: 13.00 / 14 (92.9%):  87%|██████ | 13/15 [00:00<00:00, 53.25it/s]\rAverage Metric: 14.00 / 15 (93.3%):  93%|██████▌| 14/15 [00:00<00:00, 53.25it/s]\rAverage Metric: 14.00 / 15 (93.3%): 100%|███████| 15/15 [00:00<00:00, 54.89it/s]\r\n",
      "2025/05/26 21:33:38 INFO dspy.evaluate.evaluate: Average Metric: 14.0 / 15 (93.3%)\r\n",
      "2025/05/26 21:33:38 INFO dspy.teleprompt.mipro_optimizer_v2: Score: 93.33 with parameters ['Predictor 0: Instruction 0', 'Predictor 0: Few-Shot Set 1'].\r\n",
      "2025/05/26 21:33:38 INFO dspy.teleprompt.mipro_optimizer_v2: Scores so far: [6.67, 93.33, 93.33, 93.33, 93.33, 93.33, 93.33]\r\n",
      "2025/05/26 21:33:38 INFO dspy.teleprompt.mipro_optimizer_v2: Best score so far: 93.33\r\n",
      "2025/05/26 21:33:38 INFO dspy.teleprompt.mipro_optimizer_v2: =======================\r\n",
      "\r\n",
      "\r\n",
      "2025/05/26 21:33:38 INFO dspy.teleprompt.mipro_optimizer_v2: Returning best identified program with score 93.33!\r\n",
      "\r\n",
      "=== Optimization Complete ===\r\n",
      "Results saved to: /Workspace/Users/anusha_7777@yahoo.com/databricks-prompt-ops-example/results/hts_classification_20250526_213325.json\r\n",
      "Results also saved to: /Workspace/Users/anusha_7777@yahoo.com/databricks-prompt-ops-example/results/hts_classification_20250526_213325.yaml\r\n",
      "\r\n",
      "Optimized prompt:\r\n",
      "================================================================================\r\n",
      "You are a customs classification expert specializing in the Harmonized Tariff Schedule (HTS) codes for international trade. Your task is to accurately predict the HTS code for a given product description. Analyze the product description carefully and provide the most appropriate HTS code. Output only the HTS code without any additional explanation or context.\r\n",
      "================================================================================\r\n"
     ]
    }
   ],
   "source": [
    "!llama-prompt-ops migrate --config hts_classification.yaml --api-key-env DATABRICKS_API_TOKEN --log-level CRITICAL"
   ]
  }
 ],
 "metadata": {
  "application/vnd.databricks.v1+notebook": {
   "computePreferences": null,
   "dashboards": [],
   "environmentMetadata": {
    "base_environment": "",
    "environment_version": "2"
   },
   "inputWidgetPreferences": null,
   "language": "python",
   "notebookMetadata": {
    "pythonIndentUnit": 4
   },
   "notebookName": "hts_classification_prompt_ops",
   "widgets": {}
  },
  "language_info": {
   "name": "python"
  }
 },
 "nbformat": 4,
 "nbformat_minor": 0
}
