{
 "cells": [
  {
   "attachments": {},
   "cell_type": "markdown",
   "metadata": {},
   "source": [
    "# Prompt Engineering with Llama 3 - Using Amazon Bedrock + LangChain\n",
    "\n",
    "# Added Section: Llama Guard\n",
    "\n",
    "Prompt engineering is using natural language to produce a desired response from a large language model (LLM).\n",
    "\n",
    "This interactive guide covers prompt engineering & best practices with Llama 3.\n",
    "\n",
    "### Requirements\n",
    "\n",
    "* You must have an AWS Account\n",
    "* You have access to the Amazon Bedrock Service\n",
    "* For authentication, you have configured your AWS Credentials - https://boto3.amazonaws.com/v1/documentation/api/latest/guide/credentials.html\n",
    "\n",
    "### Note about LangChain \n",
    "The Bedrock classes provided by LangChain create a Bedrock boto3 client by default. Your AWS credentials will be automatically looked up in your system's `~/.aws/` directory\n",
    "\n",
    "#### Example `/.aws/`\n",
    "    [default]\n",
    "    aws_access_key_id=YourIDToken\n",
    "    aws_secret_access_key=YourSecretToken\n",
    "    aws_session_token=YourSessionToken\n",
    "    region = [us-east-1]\n"
   ]
  },
  {
   "attachments": {},
   "cell_type": "markdown",
   "metadata": {},
   "source": [
    "## Introduction"
   ]
  },
  {
   "attachments": {},
   "cell_type": "markdown",
   "metadata": {},
   "source": [
    "### Why now?\n",
    "\n",
    "[Vaswani et al. (2017)](https://arxiv.org/abs/1706.03762) introduced the world to transformer neural networks (originally for machine translation). Transformers ushered an era of generative AI with diffusion models for image creation and large language models (`LLMs`) as **programmable deep learning networks**.\n",
    "\n",
    "Programming foundational LLMs is done with natural language – it doesn't require training/tuning like ML models of the past. This has opened the door to a massive amount of innovation and a paradigm shift in how technology can be deployed. The science/art of using natural language to program language models to accomplish a task is referred to as **Prompt Engineering**."
   ]
  },
  {
   "attachments": {},
   "cell_type": "markdown",
   "metadata": {},
   "source": [
    "### Llama Models\n",
    "\n",
    "In 2023, Meta introduced the [Llama language models](https://ai.meta.com/llama/) (Llama base, Chat, Code Llama, Llama Guard). These are general purpose, state-of-the-art LLMs.\n",
    "\n",
    "Llama models come in varying parameter sizes. The smaller models are cheaper to deploy and run; the larger models are more capable.\n",
    "\n",
    "#### Llama 3\n",
    "1. `llama-3-8b` - base pretrained 8 billion parameter model\n",
    "1. `llama-3-70b` - base pretrained 70 billion parameter model\n",
    "1. `llama-3-8b-instruct` - instruction fine-tuned 8 billion parameter model\n",
    "1. `llama-3-70b-instruct` - instruction fine-tuned 70 billion parameter model (flagship)\n",
    "\n",
    "#### Llama 2\n",
    "1. `llama-2-7b` - base pretrained 7 billion parameter model\n",
    "1. `llama-2-13b` - base pretrained 13 billion parameter model\n",
    "1. `llama-2-70b` - base pretrained 70 billion parameter model\n",
    "1. `llama-2-7b-chat` - chat fine-tuned 7 billion parameter model\n",
    "1. `llama-2-13b-chat` - chat fine-tuned 13 billion parameter model\n",
    "1. `llama-2-70b-chat` - chat fine-tuned 70 billion parameter model (flagship)\n"
   ]
  },
  {
   "attachments": {},
   "cell_type": "markdown",
   "metadata": {},
   "source": [
    "#### Code Llama - Code Llama is a code-focused LLM built on top of Llama 2 also available in various sizes and finetunes:\n",
    "1. `codellama-7b` - code fine-tuned 7 billion parameter model\n",
    "1. `codellama-13b` - code fine-tuned 13 billion parameter model\n",
    "1. `codellama-34b` - code fine-tuned 34 billion parameter model\n",
    "1. `codellama-70b` - code fine-tuned 70 billion parameter model\n",
    "1. `codellama-7b-instruct` - code & instruct fine-tuned 7 billion parameter model\n",
    "2. `codellama-13b-instruct` - code & instruct fine-tuned 13 billion parameter model\n",
    "3. `codellama-34b-instruct` - code & instruct fine-tuned 34 billion parameter model\n",
    "3. `codellama-70b-instruct` - code & instruct fine-tuned 70 billion parameter model\n",
    "1. `codellama-7b-python` - Python fine-tuned 7 billion parameter model\n",
    "2. `codellama-13b-python` - Python fine-tuned 13 billion parameter model\n",
    "3. `codellama-34b-python` - Python fine-tuned 34 billion parameter model\n",
    "3. `codellama-70b-python` - Python fine-tuned 70 billion parameter model"
   ]
  },
  {
   "cell_type": "markdown",
   "metadata": {},
   "source": [
    "#### Llama Guard\n",
    "1. `llama-guard-7b` - input and output guardrails model (a llama-2-7b model)\n",
    "2. `llama-guard-8b` - input and output guardrails model (a llama-3-8b model)"
   ]
  },
  {
   "attachments": {},
   "cell_type": "markdown",
   "metadata": {},
   "source": [
    "## Getting an LLM\n",
    "\n",
    "Large language models are deployed and accessed in a variety of ways, including:\n",
    "\n",
    "1. **Self-hosting**: Using local hardware to run inference. Ex. running Llama on your Macbook Pro using [llama.cpp](https://github.com/ggerganov/llama.cpp).\n",
    "    * Best for privacy/security or if you already have a GPU.\n",
    "1. **Cloud hosting**: Using a cloud provider to deploy an instance that hosts a specific model. Ex. running Llama on cloud providers like AWS, Azure, GCP, and others.\n",
    "    * Best for customizing models and their runtime (ex. fine-tuning a model for your use case).\n",
    "1. **Hosted API**: Call LLMs directly via an API. There are many companies that provide Llama inference APIs including AWS Bedrock, Replicate, Anyscale, Together and others.\n",
    "    * Easiest option overall."
   ]
  },
  {
   "attachments": {},
   "cell_type": "markdown",
   "metadata": {},
   "source": [
    "### Hosted APIs\n",
    "\n",
    "Hosted APIs are the easiest way to get started. We'll use them here. There are usually two main endpoints:\n",
    "\n",
    "1. **`completion`**: generate a response to a given prompt (a string).\n",
    "1. **`chat_completion`**: generate the next message in a list of messages, enabling more explicit instruction and context for use cases like chatbots."
   ]
  },
  {
   "attachments": {},
   "cell_type": "markdown",
   "metadata": {},
   "source": [
    "# Tokens\n",
    "\n",
    "LLMs process inputs and outputs in chunks called *tokens*. Think of these, roughly, as words – each model will have its own tokenization scheme. For example, this sentence...\n",
    "\n",
    "> Our destiny is written in the stars.\n",
    "\n",
    "...is tokenized into `[\"Our\", \" destiny\", \" is\", \" written\", \" in\", \" the\", \" stars\", \".\"]` for Llama 3. See [this](https://tiktokenizer.vercel.app/?model=meta-llama%2FMeta-Llama-3-8B) for an interactive tokenizer tool.\n",
    "\n",
    "Tokens matter most when you consider API pricing and internal behavior (ex. hyperparameters).\n",
    "\n",
    "Each model has a maximum context length that your prompt cannot exceed. That's 8K tokens for Llama 3, 4K for Llama 2, and 100K for Code Llama. "
   ]
  },
  {
   "attachments": {},
   "cell_type": "markdown",
   "metadata": {},
   "source": [
    "## Notebook Setup\n",
    "\n",
    "The following APIs will be used to call LLMs throughout the guide. As an example, we'll call Llama 3 Instruct using [Amazon Bedrock](https://aws.amazon.com/bedrock/llama-2/) and we'll use LangChain to easily set up a chat completion API.\n",
    "\n",
    "To install prerequisites run:"
   ]
  },
  {
   "cell_type": "code",
   "execution_count": 1,
   "metadata": {
    "tags": []
   },
   "outputs": [
    {
     "name": "stdout",
     "output_type": "stream",
     "text": [
      "\u001b[31mERROR: pip's dependency resolver does not currently take into account all the packages that are installed. This behaviour is the source of the following dependency conflicts.\n",
      "aiobotocore 2.12.2 requires botocore<1.34.52,>=1.34.41, but you have botocore 1.34.105 which is incompatible.\u001b[0m\u001b[31m\n",
      "\u001b[0mRequirement already satisfied: langchain in /opt/conda/lib/python3.10/site-packages (0.1.9)\n",
      "Requirement already satisfied: PyYAML>=5.3 in /opt/conda/lib/python3.10/site-packages (from langchain) (6.0.1)\n",
      "Requirement already satisfied: SQLAlchemy<3,>=1.4 in /opt/conda/lib/python3.10/site-packages (from langchain) (1.4.49)\n",
      "Requirement already satisfied: aiohttp<4.0.0,>=3.8.3 in /opt/conda/lib/python3.10/site-packages (from langchain) (3.9.3)\n",
      "Requirement already satisfied: async-timeout<5.0.0,>=4.0.0 in /opt/conda/lib/python3.10/site-packages (from langchain) (4.0.3)\n",
      "Requirement already satisfied: dataclasses-json<0.7,>=0.5.7 in /opt/conda/lib/python3.10/site-packages (from langchain) (0.6.4)\n",
      "Requirement already satisfied: jsonpatch<2.0,>=1.33 in /opt/conda/lib/python3.10/site-packages (from langchain) (1.33)\n",
      "Requirement already satisfied: langchain-community<0.1,>=0.0.21 in /opt/conda/lib/python3.10/site-packages (from langchain) (0.0.32)\n",
      "Requirement already satisfied: langchain-core<0.2,>=0.1.26 in /opt/conda/lib/python3.10/site-packages (from langchain) (0.1.42)\n",
      "Requirement already satisfied: langsmith<0.2.0,>=0.1.0 in /opt/conda/lib/python3.10/site-packages (from langchain) (0.1.47)\n",
      "Requirement already satisfied: numpy<2,>=1 in /opt/conda/lib/python3.10/site-packages (from langchain) (1.26.4)\n",
      "Requirement already satisfied: pydantic<3,>=1 in /opt/conda/lib/python3.10/site-packages (from langchain) (1.10.14)\n",
      "Requirement already satisfied: requests<3,>=2 in /opt/conda/lib/python3.10/site-packages (from langchain) (2.31.0)\n",
      "Requirement already satisfied: tenacity<9.0.0,>=8.1.0 in /opt/conda/lib/python3.10/site-packages (from langchain) (8.2.3)\n",
      "Requirement already satisfied: aiosignal>=1.1.2 in /opt/conda/lib/python3.10/site-packages (from aiohttp<4.0.0,>=3.8.3->langchain) (1.3.1)\n",
      "Requirement already satisfied: attrs>=17.3.0 in /opt/conda/lib/python3.10/site-packages (from aiohttp<4.0.0,>=3.8.3->langchain) (23.2.0)\n",
      "Requirement already satisfied: frozenlist>=1.1.1 in /opt/conda/lib/python3.10/site-packages (from aiohttp<4.0.0,>=3.8.3->langchain) (1.4.1)\n",
      "Requirement already satisfied: multidict<7.0,>=4.5 in /opt/conda/lib/python3.10/site-packages (from aiohttp<4.0.0,>=3.8.3->langchain) (6.0.5)\n",
      "Requirement already satisfied: yarl<2.0,>=1.0 in /opt/conda/lib/python3.10/site-packages (from aiohttp<4.0.0,>=3.8.3->langchain) (1.9.4)\n",
      "Requirement already satisfied: marshmallow<4.0.0,>=3.18.0 in /opt/conda/lib/python3.10/site-packages (from dataclasses-json<0.7,>=0.5.7->langchain) (3.21.1)\n",
      "Requirement already satisfied: typing-inspect<1,>=0.4.0 in /opt/conda/lib/python3.10/site-packages (from dataclasses-json<0.7,>=0.5.7->langchain) (0.9.0)\n",
      "Requirement already satisfied: jsonpointer>=1.9 in /opt/conda/lib/python3.10/site-packages (from jsonpatch<2.0,>=1.33->langchain) (2.4)\n",
      "Requirement already satisfied: packaging<24.0,>=23.2 in /opt/conda/lib/python3.10/site-packages (from langchain-core<0.2,>=0.1.26->langchain) (23.2)\n",
      "Requirement already satisfied: orjson<4.0.0,>=3.9.14 in /opt/conda/lib/python3.10/site-packages (from langsmith<0.2.0,>=0.1.0->langchain) (3.9.15)\n",
      "Requirement already satisfied: typing-extensions>=4.2.0 in /opt/conda/lib/python3.10/site-packages (from pydantic<3,>=1->langchain) (4.5.0)\n",
      "Requirement already satisfied: charset-normalizer<4,>=2 in /opt/conda/lib/python3.10/site-packages (from requests<3,>=2->langchain) (3.3.2)\n",
      "Requirement already satisfied: idna<4,>=2.5 in /opt/conda/lib/python3.10/site-packages (from requests<3,>=2->langchain) (3.6)\n",
      "Requirement already satisfied: urllib3<3,>=1.21.1 in /opt/conda/lib/python3.10/site-packages (from requests<3,>=2->langchain) (1.26.18)\n",
      "Requirement already satisfied: certifi>=2017.4.17 in /opt/conda/lib/python3.10/site-packages (from requests<3,>=2->langchain) (2024.2.2)\n",
      "Requirement already satisfied: greenlet!=0.4.17 in /opt/conda/lib/python3.10/site-packages (from SQLAlchemy<3,>=1.4->langchain) (3.0.3)\n",
      "Requirement already satisfied: mypy-extensions>=0.3.0 in /opt/conda/lib/python3.10/site-packages (from typing-inspect<1,>=0.4.0->dataclasses-json<0.7,>=0.5.7->langchain) (1.0.0)\n"
     ]
    }
   ],
   "source": [
    "# install packages\n",
    "!python3 -m pip install -qU boto3\n",
    "!python3 -m pip install langchain\n",
    "\n",
    "import boto3\n",
    "import json "
   ]
  },
  {
   "cell_type": "code",
   "execution_count": 15,
   "metadata": {
    "tags": []
   },
   "outputs": [],
   "source": [
    "from getpass import getpass\n",
    "from urllib.request import urlopen\n",
    "from typing import Dict, List\n",
    "from langchain_community.llms import Bedrock\n",
    "from langchain.chains import ConversationChain\n",
    "from langchain.memory import ConversationBufferMemory\n",
    "from langchain.callbacks.streaming_stdout import StreamingStdOutCallbackHandler\n",
    "from langchain.memory import ChatMessageHistory\n",
    "from langchain.schema.messages import get_buffer_string\n",
    "import os\n",
    "\n",
    "# bedrock = boto3.client(service_name='bedrock', region_name='us-east-1')\n",
    "# listModels = bedrock.list_foundation_models(byProvider='meta')\n",
    "# print(\"\\n\".join(list(map(lambda x: f\"{x['modelName']} : { x['modelId'] }\", listModels['modelSummaries']))))\n"
   ]
  },
  {
   "cell_type": "code",
   "execution_count": 315,
   "metadata": {
    "tags": []
   },
   "outputs": [],
   "source": [
    "LLAMA3_70B_INSTRUCT = \"meta.llama3-70b-instruct-v1:0\"\n",
    "LLAMA3_8B_INSTRUCT = \"meta.llama3-8b-instruct-v1:0\"\n",
    "# We'll default to the smaller 8B model for speed; change to LLAMA3_70B_CHAT for more advanced (but slower) generations\n",
    "DEFAULT_MODEL = LLAMA3_8B_INSTRUCT\n",
    "\n",
    "\n",
    "def completion(\n",
    "    prompt: str,\n",
    "    model: str = DEFAULT_MODEL,\n",
    "    temperature: float = 0.6,\n",
    "    top_p: float = 0.9,\n",
    ") -> str:\n",
    "    llm = Bedrock(model_id=model)\n",
    "    prompt_str = ''.join(prompt)\n",
    "    if not prompt_str.endswith(\"<|eot_id|><|start_header_id|>assistant<|end_header_id|>\"):\n",
    "        prompt += \"<|eot_id|><|start_header_id|>assistant<|end_header_id|>\"\n",
    "    return llm.invoke(prompt, temperature=temperature, top_p=top_p)\n",
    "\n",
    "\n",
    "def chat_completion(\n",
    "    messages: List[Dict],\n",
    "    model=DEFAULT_MODEL,\n",
    "    temperature: float = 0.6, \n",
    "    top_p: float = 0.9,\n",
    ") -> str:\n",
    "    prompt_str = ''.join([msg['content'] for msg in messages])\n",
    "    return completion(\n",
    "        prompt_str,\n",
    "        model,\n",
    "        temperature,\n",
    "        top_p,\n",
    "    )\n",
    "\n",
    "\n",
    "def assistant(content: str):\n",
    "    return {\"role\": \"assistant\", \"content\": content}\n",
    "\n",
    "\n",
    "def user(content: str):\n",
    "    return {\"role\": \"user\", \"content\": content}\n",
    "\n",
    "\n",
    "def complete_and_print(prompt: str, model: str = DEFAULT_MODEL, verbose: bool = True):\n",
    "    print(f'==============\\n{prompt}\\n==============')\n",
    "    if not prompt.endswith(\"<|eot_id|><|start_header_id|>assistant<|end_header_id|>\"):\n",
    "        prompt += \"<|eot_id|><|start_header_id|>assistant<|end_header_id|>\"\n",
    "    response = completion(prompt, model)\n",
    "    if verbose: \n",
    "        print(response, end='\\n\\n')\n",
    "    return response\n"
   ]
  },
  {
   "attachments": {},
   "cell_type": "markdown",
   "metadata": {},
   "source": [
    "### Completion APIs\n",
    "\n",
    "Llama 2 models tend to be wordy and explain their rationale. Later we'll explore how to manage the response length."
   ]
  },
  {
   "cell_type": "code",
   "execution_count": 316,
   "metadata": {
    "tags": []
   },
   "outputs": [
    {
     "name": "stdout",
     "output_type": "stream",
     "text": [
      "==============\n",
      "The best service at AWS suitable to use when you want the traffic matters such as load balancing and bandwidth to be handled automatically are:\n",
      "==============\n",
      "\n",
      "\n",
      "When it comes to handling traffic matters such as load balancing and bandwidth, AWS offers several services that can help. Here are some of the best services suitable for this purpose:\n",
      "\n",
      "1. **Elastic Load Balancer (ELB)**: ELB is a popular choice for load balancing, which distributes incoming traffic across multiple EC2 instances or containers. It can handle high traffic volumes and provides features like session persistence, sticky sessions, and SSL termination.\n",
      "2. **Application Load Balancer (ALB)**: ALB is a more advanced load balancer that provides features like HTTP/2, WebSocket support, and support for multiple protocols (e.g., TCP, UDP). It's a good choice for applications that require advanced load balancing features.\n",
      "3. **Network Load Balancer (NLB)**: NLB is a high-performance load balancer that's designed for low-latency applications. It's a good choice for applications that require fast response times and can handle high traffic volumes.\n",
      "4. **Route 53**: Route 53 is a highly available and scalable DNS service that can help you route traffic to your applications. It provides features like latency-based routing, geolocation-based routing, and health checks.\n",
      "5. **CloudFront**: CloudFront is a content delivery network (CDN) that can help you distribute your content across multiple edge locations. It provides features like caching, SSL termination, and content compression.\n",
      "6. **Lambda@Edge**: Lambda@Edge is a serverless compute service that allows you to run code at the edge of the network, closer to your users. It's a good choice for applications that require real-time processing and low latency.\n",
      "\n",
      "These services can help you handle traffic matters such as load balancing, bandwidth, and content delivery, making it easier to scale and manage your applications on AWS.\n",
      "\n"
     ]
    },
    {
     "data": {
      "text/plain": [
       "\"\\n\\nWhen it comes to handling traffic matters such as load balancing and bandwidth, AWS offers several services that can help. Here are some of the best services suitable for this purpose:\\n\\n1. **Elastic Load Balancer (ELB)**: ELB is a popular choice for load balancing, which distributes incoming traffic across multiple EC2 instances or containers. It can handle high traffic volumes and provides features like session persistence, sticky sessions, and SSL termination.\\n2. **Application Load Balancer (ALB)**: ALB is a more advanced load balancer that provides features like HTTP/2, WebSocket support, and support for multiple protocols (e.g., TCP, UDP). It's a good choice for applications that require advanced load balancing features.\\n3. **Network Load Balancer (NLB)**: NLB is a high-performance load balancer that's designed for low-latency applications. It's a good choice for applications that require fast response times and can handle high traffic volumes.\\n4. **Route 53**: Route 53 is a highly available and scalable DNS service that can help you route traffic to your applications. It provides features like latency-based routing, geolocation-based routing, and health checks.\\n5. **CloudFront**: CloudFront is a content delivery network (CDN) that can help you distribute your content across multiple edge locations. It provides features like caching, SSL termination, and content compression.\\n6. **Lambda@Edge**: Lambda@Edge is a serverless compute service that allows you to run code at the edge of the network, closer to your users. It's a good choice for applications that require real-time processing and low latency.\\n\\nThese services can help you handle traffic matters such as load balancing, bandwidth, and content delivery, making it easier to scale and manage your applications on AWS.\""
      ]
     },
     "execution_count": 316,
     "metadata": {},
     "output_type": "execute_result"
    }
   ],
   "source": [
    "# complete_and_print(\"The typical color of the sky is: \")\n",
    "complete_and_print(\"\"\"The best service at AWS suitable to use when you want the traffic matters \\\n",
    "such as load balancing and bandwidth to be handled automatically are:\"\"\")"
   ]
  },
  {
   "attachments": {},
   "cell_type": "markdown",
   "metadata": {},
   "source": [
    "### Chat Completion APIs\n",
    "Chat completion models provide additional structure to interacting with an LLM. An array of structured message objects is sent to the LLM instead of a single piece of text. This message list provides the LLM with some \"context\" or \"history\" from which to continue.\n",
    "\n",
    "Typically, each message contains `role` and `content`:\n",
    "* Messages with the `system` role are used to provide core instruction to the LLM by developers.\n",
    "* Messages with the `user` role are typically human-provided messages.\n",
    "* Messages with the `assistant` role are typically generated by the LLM."
   ]
  },
  {
   "cell_type": "code",
   "execution_count": 93,
   "metadata": {
    "tags": []
   },
   "outputs": [
    {
     "name": "stdout",
     "output_type": "stream",
     "text": [
      "\n",
      "\n",
      "I'm glad you like blue! And... your favorite color is blue!\n"
     ]
    }
   ],
   "source": [
    "response = chat_completion(messages=[\n",
    "    user(\"My favorite color is blue.\"),\n",
    "    assistant(\"That's great to hear!\"),\n",
    "    user(\"What is my favorite color?\"),\n",
    "])\n",
    "print(response)\n",
    "# \"Sure, I can help you with that! Your favorite color is blue.\""
   ]
  },
  {
   "attachments": {},
   "cell_type": "markdown",
   "metadata": {},
   "source": [
    "### LLM Hyperparameters\n",
    "\n",
    "#### `temperature` & `top_p`\n",
    "\n",
    "These APIs also take parameters which influence the creativity and determinism of your output.\n",
    "\n",
    "At each step, LLMs generate a list of most likely tokens and their respective probabilities. The least likely tokens are \"cut\" from the list (based on `top_p`), and then a token is randomly selected from the remaining candidates (`temperature`).\n",
    "\n",
    "In other words: `top_p` controls the breadth of vocabulary in a generation and `temperature` controls the randomness within that vocabulary. A temperature of ~0 produces *almost* deterministic results.\n",
    "\n",
    "[Read more about temperature setting here](https://community.openai.com/t/cheat-sheet-mastering-temperature-and-top-p-in-chatgpt-api-a-few-tips-and-tricks-on-controlling-the-creativity-deterministic-output-of-prompt-responses/172683).\n",
    "\n",
    "Let's try it out:"
   ]
  },
  {
   "cell_type": "code",
   "execution_count": 102,
   "metadata": {
    "tags": []
   },
   "outputs": [
    {
     "name": "stdout",
     "output_type": "stream",
     "text": [
      "[temperature: 0.01 | top_p: 0.01]\n",
      "\"As the spaceship soared through the galaxy, a curious llama named Zara gazed out at the stars, her soft humming harmonizing with the cosmos.\"\n",
      "\n",
      "[temperature: 0.01 | top_p: 0.01]\n",
      "\"As the spaceship soared through the galaxy, a curious llama named Zara gazed out at the stars, her soft humming harmonizing with the cosmos.\"\n",
      "\n",
      "[temperature: 0.01 | top_p: 0.01]\n",
      "\"As the spaceship soared through the galaxy, a curious llama named Zara gazed out at the stars, her soft humming harmonizing with the cosmos.\"\n",
      "\n",
      "[temperature: 0.01 | top_p: 0.01]\n",
      "\"As the spaceship soared through the galaxy, a curious llama named Zara gazed out at the stars, her soft humming harmonizing with the cosmos.\"\n",
      "\n",
      "[temperature: 1.0 | top_p: 0.5]\n",
      "\"As the spaceship soared through the galaxy, a team of llamas in tiny spacesuits gazed out at the stars, their soft hums harmonizing with the cosmos.\"\n",
      "\n",
      "[temperature: 1.0 | top_p: 0.5]\n",
      "As the spaceship soared through the galaxy, a curious llama named Zara gazed out the window, her soft humming harmonizing with the stars.\n",
      "\n",
      "[temperature: 1.0 | top_p: 0.5]\n",
      "As the spaceship soared through the galaxy, a team of llamas in tiny spacesuits gazed out at the stars, their soft humming harmonizing with the hum of the engines.\n",
      "\n",
      "[temperature: 1.0 | top_p: 0.5]\n",
      "\"As the spaceship soared through the galaxy, a team of llamas in tiny spacesuits floated outside, their soft humming a soothing soundtrack to the cosmos.\"\n",
      "\n"
     ]
    }
   ],
   "source": [
    "def print_tuned_completion(temperature: float, top_p: float):\n",
    "    response = completion(\"Tell me a 25 word story about llamas in space\", temperature=temperature, top_p=top_p)\n",
    "    print(f'[temperature: {temperature} | top_p: {top_p}]\\n{response.strip()}\\n')\n",
    "\n",
    "print_tuned_completion(0.01, 0.01)\n",
    "print_tuned_completion(0.01, 0.01)\n",
    "print_tuned_completion(0.01, 0.01)\n",
    "print_tuned_completion(0.01, 0.01)\n",
    "# These two generations are highly likely to be the same\n",
    "\n",
    "print_tuned_completion(1.0, 0.5)\n",
    "print_tuned_completion(1.0, 0.5)\n",
    "print_tuned_completion(1.0, 0.5)\n",
    "print_tuned_completion(1.0, 0.5)\n",
    "# These two generations are highly likely to be different"
   ]
  },
  {
   "attachments": {},
   "cell_type": "markdown",
   "metadata": {},
   "source": [
    "## Prompting Techniques"
   ]
  },
  {
   "attachments": {},
   "cell_type": "markdown",
   "metadata": {},
   "source": [
    "### Explicit Instructions\n",
    "\n",
    "Detailed, explicit instructions produce better results than open-ended prompts:"
   ]
  },
  {
   "cell_type": "code",
   "execution_count": 103,
   "metadata": {
    "tags": []
   },
   "outputs": [
    {
     "name": "stdout",
     "output_type": "stream",
     "text": [
      "==============\n",
      "Describe quantum physics in one short sentence with no more than 12 words\n",
      "==============\n",
      "\n",
      "\n",
      "\"Quantum physics is the study of tiny particles' weird behavior.\"\n",
      "\n"
     ]
    }
   ],
   "source": [
    "complete_and_print(prompt=\"Describe quantum physics in one short sentence with no more than 12 words\")\n",
    "# Returns a succinct explanation of quantum physics that mentions particles and states existing simultaneously."
   ]
  },
  {
   "attachments": {},
   "cell_type": "markdown",
   "metadata": {},
   "source": [
    "You can think about giving explicit instructions as using rules and restrictions to how Llama 2 responds to your prompt.\n",
    "\n",
    "- Stylization\n",
    "    - `Explain this to me like a topic on a children's educational network show teaching elementary students.`\n",
    "    - `I'm a software engineer using large language models for summarization. Summarize the following text in under 250 words:`\n",
    "    - `Give your answer like an old timey private investigator hunting down a case step by step.`\n",
    "- Formatting\n",
    "    - `Use bullet points.`\n",
    "    - `Return as a JSON object.`\n",
    "    - `Use less technical terms and help me apply it in my work in communications.`\n",
    "- Restrictions\n",
    "    - `Only use academic papers.`\n",
    "    - `Never give sources older than 2020.`\n",
    "    - `If you don't know the answer, say that you don't know.`\n",
    "\n",
    "Here's an example of giving explicit instructions to give more specific results by limiting the responses to recently created sources."
   ]
  },
  {
   "cell_type": "code",
   "execution_count": 98,
   "metadata": {
    "tags": []
   },
   "outputs": [
    {
     "name": "stdout",
     "output_type": "stream",
     "text": [
      "==============\n",
      "Explain the latest advances in large language models to me.\n",
      "==============\n",
      "\n",
      "\n",
      "What a great question! Large language models have made tremendous progress in recent years, and I'd be happy to give you an overview of the latest advances.\n",
      "\n",
      "**What are large language models?**\n",
      "\n",
      "Large language models are artificial neural networks trained on vast amounts of text data to generate, understand, and generate human-like language. They're designed to process and analyze vast amounts of text, making them useful for tasks like language translation, text summarization, question answering, and even creative writing.\n",
      "\n",
      "**Recent advances:**\n",
      "\n",
      "1. **Scaling up models:** The most significant breakthrough has been the development of massive models with billions of parameters. These models, such as Google's BERT (Bidirectional Encoder Representations from Transformers) and its variants, have achieved state-of-the-art results in various NLP tasks.\n",
      "2. **Pre-training:** Pre-training large language models on a large corpus of text (e.g., the entire internet) has become a popular approach. This allows the model to learn general language representations, which can then be fine-tuned for specific tasks.\n",
      "3. **Transfer learning:** Pre-trained models can be fine-tuned for specific tasks, such as language translation or sentiment analysis, with minimal additional training data. This has greatly reduced the need for large amounts of task-specific data.\n",
      "4. **Multitask learning:** Many recent models are trained on multiple tasks simultaneously, which has improved their overall performance and ability to generalize to new tasks.\n",
      "5. **Attention mechanisms:** Attention mechanisms, which allow the model to focus on specific parts of the input text, have become a standard component of many large language models.\n",
      "6. **Improved optimization techniques:** Researchers have developed more efficient optimization algorithms, such as AdamW and Adafactor, which have accelerated the training process and improved model performance.\n",
      "7. **Quantization and distillation:** Techniques like quantization (reducing the precision of model weights) and knowledge distillation (transferring knowledge from a larger model to a smaller one) have made it possible to deploy large language models on resource-constrained devices.\n",
      "\n",
      "**Some notable examples:**\n",
      "\n",
      "1. **BERT:** Developed by Google, BERT has achieved state-of-the-art results in many NLP tasks, including question answering, sentiment analysis, and language translation.\n",
      "2. **RoBERTa:** A variant of BERT developed by Facebook, RoBERTa has achieved even better results in some tasks, such as language translation.\n",
      "3. **T5:** Developed by Google, T5 is a text-to-text transformer that can generate text\n",
      "\n",
      "==============\n",
      "Explain the latest advances in large language models to me. Always cite your sources. Never cite sources older than 2020.\n",
      "==============\n",
      "\n",
      "\n",
      "Here's an overview of the latest advances in large language models, with sources from 2020 or later:\n",
      "\n",
      "**Transformers and Attention Mechanisms**\n",
      "\n",
      "The transformer architecture, introduced in the paper \"Attention Is All You Need\" by Vaswani et al. in 2017, has become the foundation for many large language models. The attention mechanism allows the model to focus on specific parts of the input sequence, improving its ability to process long-range dependencies.\n",
      "\n",
      "In 2020, the paper \"Reformer: The Efficient Transformer\" by Kitaev et al. introduced the Reformer architecture, which uses a combination of attention and permutation-based operations to reduce the computational complexity of transformer models.\n",
      "\n",
      "**Large-Scale Pretraining**\n",
      "\n",
      "Large-scale pretraining has been a key component of many successful language models. In 2020, the paper \"BERT: Pre-training of Deep Bidirectional Transformers for Language Understanding\" by Devlin et al. introduced the BERT model, which uses a masked language modeling task to pretrain a large transformer model on a large corpus of text.\n",
      "\n",
      "More recently, the paper \"RoBERTa: A Robustly Optimized BERT Pretraining Approach\" by Liu et al. (2020) introduced the RoBERTa model, which uses a combination of masked language modeling and next sentence prediction to pretrain a large transformer model.\n",
      "\n",
      "**Multitask Learning and Transfer Learning**\n",
      "\n",
      "Multitask learning and transfer learning have also been used to improve the performance of large language models. In 2020, the paper \"DistilBERT, a Distilled Version of BERT\" by Sanh et al. introduced the DistilBERT model, which uses a combination of multitask learning and knowledge distillation to pretrain a smaller transformer model.\n",
      "\n",
      "**Efficient Inference and Deployment**\n",
      "\n",
      "As large language models become increasingly powerful, there is a growing need for efficient inference and deployment methods. In 2020, the paper \"Quantizing Transformers for Efficient Inference\" by Jain et al. introduced a method for quantizing transformer models to reduce their computational complexity.\n",
      "\n",
      "In 2021, the paper \"JAX-FLAX: A Unified Framework for Large-Scale Language Models\" by Chen et al. introduced a unified framework for large-scale language models, which includes support for efficient inference and deployment.\n",
      "\n",
      "**Recent Advances**\n",
      "\n",
      "Some recent advances in large language models include:\n",
      "\n",
      "* The introduction of the T5 model by Raffel et al. (2021), which uses a combination of masked language modeling and next sentence prediction\n",
      "\n"
     ]
    }
   ],
   "source": [
    "complete_and_print(\"Explain the latest advances in large language models to me.\")\n",
    "# More likely to cite sources from 2017\n",
    "\n",
    "complete_and_print(\"Explain the latest advances in large language models to me. Always cite your sources. Never cite sources older than 2020.\")\n",
    "# Gives more specific advances and only cites sources from 2020"
   ]
  },
  {
   "attachments": {},
   "cell_type": "markdown",
   "metadata": {},
   "source": [
    "### Example Prompting using Zero- and Few-Shot Learning\n",
    "\n",
    "A shot is an example or demonstration of what type of prompt and response you expect from a large language model. This term originates from training computer vision models on photographs, where one shot was one example or instance that the model used to classify an image ([Fei-Fei et al. (2006)](http://vision.stanford.edu/documents/Fei-FeiFergusPerona2006.pdf)).\n",
    "\n",
    "#### Zero-Shot Prompting\n",
    "\n",
    "Large language models like Llama 3 are unique because they are capable of following instructions and producing responses without having previously seen an example of a task. Prompting without examples is called \"zero-shot prompting\".\n",
    "\n",
    "Let's try using Llama 3 as a sentiment detector. You may notice that output format varies - we can improve this with better prompting."
   ]
  },
  {
   "cell_type": "code",
   "execution_count": 100,
   "metadata": {
    "tags": []
   },
   "outputs": [
    {
     "name": "stdout",
     "output_type": "stream",
     "text": [
      "==============\n",
      "Text: This was the best movie I've ever seen! \n",
      " The sentiment of the text is: \n",
      "==============\n",
      "\n",
      "\n",
      "The sentiment of the text is **POSITIVE**. The user is expressing their enthusiasm and admiration for the movie, stating it is the \"best movie I've ever seen\". The language used is superlatively positive, with no negative comments or criticisms.\n",
      "\n",
      "==============\n",
      "Text: The director was trying too hard. \n",
      " The sentiment of the text is: \n",
      "==============\n",
      "\n",
      "\n",
      "Negative.\n",
      "\n",
      "The text expresses a negative sentiment towards the director, implying that they were trying too hard and likely failed to achieve their goals. The tone is critical and disapproving.\n",
      "\n"
     ]
    }
   ],
   "source": [
    "complete_and_print(\"Text: This was the best movie I've ever seen! \\n The sentiment of the text is: \")\n",
    "# Returns positive sentiment\n",
    "\n",
    "complete_and_print(\"Text: The director was trying too hard. \\n The sentiment of the text is: \")\n",
    "# Returns negative sentiment"
   ]
  },
  {
   "attachments": {},
   "cell_type": "markdown",
   "metadata": {},
   "source": [
    "\n",
    "#### Few-Shot Prompting\n",
    "\n",
    "Adding specific examples of your desired output generally results in more accurate, consistent output. This technique is called \"few-shot prompting\".\n",
    "\n",
    "In this example, the generated response follows our desired format that offers a more nuanced sentiment classifer that gives a positive, neutral, and negative response confidence percentage.\n",
    "\n",
    "See also: [Zhao et al. (2021)](https://arxiv.org/abs/2102.09690), [Liu et al. (2021)](https://arxiv.org/abs/2101.06804), [Su et al. (2022)](https://arxiv.org/abs/2209.01975), [Rubin et al. (2022)](https://arxiv.org/abs/2112.08633).\n",
    "\n"
   ]
  },
  {
   "cell_type": "code",
   "execution_count": 115,
   "metadata": {
    "tags": []
   },
   "outputs": [
    {
     "name": "stdout",
     "output_type": "stream",
     "text": [
      "INPUT: I thought it was okay\n",
      "\n",
      "\n",
      "I'd be happy to help.\n",
      "\n",
      "Here are the sentiment classifications:\n",
      "\n",
      "* I liked it: [70% positive 30% neutral 0% negative]\n",
      "* It could be better: [0% positive 50% neutral 50% negative]\n",
      "* It's fine: [25% positive 50% neutral 25% negative]\n",
      "* I thought it was okay: [0% positive 50% neutral 50% negative]\n",
      "\n",
      "\n",
      "INPUT: I loved it!\n",
      "\n",
      "\n",
      "I'm ready to classify the sentiment!\n",
      "\n",
      "Here are the results:\n",
      "\n",
      "* \"I liked it\" -> 70% positive, 30% neutral, 0% negative\n",
      "* \"It could be better\" -> 0% positive, 50% neutral, 50% negative\n",
      "* \"It's fine\" -> 25% positive, 50% neutral, 25% negative\n",
      "* \"I loved it!\" -> 100% positive, 0% neutral, 0% negative\n",
      "\n",
      "Let me know if you have more sentences to classify!\n",
      "\n",
      "\n",
      "INPUT: Terrible service 0/10\n",
      "\n",
      "\n",
      "I'd be happy to help. Here are the sentiment classifications:\n",
      "\n",
      "* \"I liked it\": [70% positive 30% neutral 0% negative]\n",
      "* \"It could be better\": [0% positive 50% neutral 50% negative]\n",
      "* \"It's fine\": [25% positive 50% neutral 25% negative]\n",
      "* \"Terrible service 0/10\": [0% positive 0% neutral 100% negative]\n",
      "\n",
      "\n"
     ]
    }
   ],
   "source": [
    "def sentiment(text):\n",
    "    response = chat_completion(messages=[\n",
    "        user(\"You are a sentiment classifier. Now, give the percentage of positive/netural/negative in the format: [% positive % neutral % negative]\"),\n",
    "        user(\"I liked it\"),\n",
    "        assistant(\"70% positive 30% neutral 0% negative\"),\n",
    "        user(\"It could be better\"),\n",
    "        assistant(\"0% positive 50% neutral 50% negative\"),\n",
    "        user(\"It's fine\"),\n",
    "        assistant(\"25% positive 50% neutral 25% negative\"),\n",
    "        user(text),\n",
    "    ])\n",
    "    return response\n",
    "\n",
    "def print_sentiment(text):\n",
    "    print(f'INPUT: {text}')\n",
    "    print(sentiment(text))\n",
    "    print(\"\\n\")\n",
    "\n",
    "print_sentiment(\"I thought it was okay\")\n",
    "# More likely to return a balanced mix of positive, neutral, and negative\n",
    "print_sentiment(\"I loved it!\")\n",
    "# More likely to return 100% positive\n",
    "print_sentiment(\"Terrible service 0/10\")\n",
    "# More likely to return 100% negative"
   ]
  },
  {
   "attachments": {},
   "cell_type": "markdown",
   "metadata": {},
   "source": [
    "### Role Prompting\n",
    "\n",
    "Llama will often give more consistent responses when given a role ([Kong et al. (2023)](https://browse.arxiv.org/pdf/2308.07702.pdf)). Roles give context to the LLM on what type of answers are desired.\n",
    "\n",
    "Let's use Llama 3 to create a more focused, technical response for a question around the pros and cons of using PyTorch."
   ]
  },
  {
   "cell_type": "code",
   "execution_count": 117,
   "metadata": {
    "tags": []
   },
   "outputs": [
    {
     "name": "stdout",
     "output_type": "stream",
     "text": [
      "==============\n",
      "Explain the pros and cons of using PyTorch.\n",
      "==============\n",
      "\n",
      "\n",
      "PyTorch is a popular open-source machine learning library developed by Facebook's AI Research Lab (FAIR). It is known for its simplicity, flexibility, and ease of use, making it a popular choice among researchers and developers. Here are some pros and cons of using PyTorch:\n",
      "\n",
      "**Pros:**\n",
      "\n",
      "1. **Easy to learn**: PyTorch has a simple and intuitive API, making it easy for beginners to learn and start building models quickly.\n",
      "2. **Dynamic computation graph**: PyTorch allows you to build a computation graph dynamically, which is useful for rapid prototyping and experimentation.\n",
      "3. **Automatic differentiation**: PyTorch provides automatic differentiation, which makes it easy to compute gradients and optimize model parameters.\n",
      "4. **Flexible**: PyTorch supports a wide range of neural network architectures and allows you to customize your models to suit your specific needs.\n",
      "5. **Large community**: PyTorch has a large and active community, which means there are many resources available, including pre-trained models and tutorials.\n",
      "6. **Rapid development**: PyTorch's dynamic computation graph and automatic differentiation make it ideal for rapid prototyping and development.\n",
      "7. **Support for GPU acceleration**: PyTorch supports GPU acceleration, which can significantly speed up training and inference times.\n",
      "\n",
      "**Cons:**\n",
      "\n",
      "1. **Steep learning curve for complex models**: While PyTorch is easy to learn for simple models, building complex models can be challenging, especially for those without a strong background in computer science or mathematics.\n",
      "2. **Limited support for distributed training**: PyTorch's distributed training capabilities are still evolving, and it may not be as efficient as other libraries like TensorFlow or Caffe.\n",
      "3. ** Limited support for large-scale production deployments**: PyTorch is primarily designed for research and development, and it may not be suitable for large-scale production deployments.\n",
      "4. **Not as widely adopted as TensorFlow**: TensorFlow is a more widely adopted library, which means there may be more resources and pre-trained models available.\n",
      "5. **Limited support for some hardware**: PyTorch may not have native support for some hardware, such as TPUs or ASICs, which can limit its performance on certain devices.\n",
      "6. **Limited support for some operating systems**: PyTorch may not be compatible with all operating systems, which can limit its usability on certain platforms.\n",
      "7. **Still evolving**: PyTorch is a relatively new library, and it is still evolving. This means that some features may change or be deprecated in future versions.\n",
      "\n",
      "Overall\n",
      "\n",
      "==============\n",
      "Your role is a machine learning expert who gives highly technical advice to senior engineers who work with complicated datasets. Explain the pros and cons of using PyTorch.\n",
      "==============\n",
      "\n",
      "\n",
      "As a machine learning expert, I'm happy to provide a detailed analysis of PyTorch, a popular open-source machine learning framework.\n",
      "\n",
      "**Pros:**\n",
      "\n",
      "1. **Dynamic computation graph**: PyTorch's computation graph is built dynamically, which allows for more flexibility and ease of use. This means you can define your model and its components in a more natural way, without worrying about the underlying computational graph.\n",
      "2. **Autograd**: PyTorch's autograd system automatically computes gradients for your model, making it easier to implement backpropagation and optimize your model. This feature is particularly useful for complex models with many layers and non-linear activations.\n",
      "3. **Pythonic API**: PyTorch's API is designed to feel like native Python, making it easy to integrate with other Python libraries and frameworks. This is a significant advantage over other deep learning frameworks like TensorFlow, which have a more verbose and C++-like API.\n",
      "4. **Rapid prototyping**: PyTorch's dynamic computation graph and autograd system make it ideal for rapid prototyping and experimentation. You can quickly try out new ideas and iterate on your model without worrying about the underlying infrastructure.\n",
      "5. **GPU support**: PyTorch has excellent support for GPU acceleration, which is essential for large-scale deep learning models. You can easily move your model to a GPU and take advantage of parallel processing to speed up training and inference.\n",
      "6. **Large community**: PyTorch has a growing and active community, with many pre-built models and libraries available for popular tasks like computer vision, natural language processing, and reinforcement learning.\n",
      "7. **Extensive documentation**: PyTorch has excellent documentation, including tutorials, guides, and API references. This makes it easier for new users to get started and for experienced users to find the information they need.\n",
      "\n",
      "**Cons:**\n",
      "\n",
      "1. **Steeper learning curve**: While PyTorch's API is Pythonic, it still requires a good understanding of deep learning concepts and Python programming. If you're new to deep learning, you may find it challenging to get started.\n",
      "2. **Less mature than TensorFlow**: PyTorch is still a relatively new framework, and while it's gaining popularity rapidly, it's not yet as mature as TensorFlow in terms of features and stability.\n",
      "3. **Limited support for distributed training**: While PyTorch has some support for distributed training, it's not as extensive as TensorFlow's. This can be a limitation for large-scale deep learning projects that require distributed training.\n",
      "4. **Limited support\n",
      "\n"
     ]
    }
   ],
   "source": [
    "complete_and_print(\"Explain the pros and cons of using PyTorch.\")\n",
    "# More likely to explain the pros and cons of PyTorch covers general areas like documentation, the PyTorch community, and mentions a steep learning curve\n",
    "\n",
    "complete_and_print(\"Your role is a machine learning expert who gives highly technical advice to senior engineers who work with complicated datasets. Explain the pros and cons of using PyTorch.\")\n",
    "# Often results in more technical benefits and drawbacks that provide more technical details on how model layers"
   ]
  },
  {
   "attachments": {},
   "cell_type": "markdown",
   "metadata": {},
   "source": [
    "### Chain-of-Thought\n",
    "\n",
    "Simply adding a phrase encouraging step-by-step thinking \"significantly improves the ability of large language models to perform complex reasoning\" ([Wei et al. (2022)](https://arxiv.org/abs/2201.11903)). This technique is called \"CoT\" or \"Chain-of-Thought\" prompting:\n",
    "\n",
    "Llama 3 now reasons step-by-step naturally without the addition of the phrase. This section remains for completeness."
   ]
  },
  {
   "cell_type": "code",
   "execution_count": 118,
   "metadata": {},
   "outputs": [
    {
     "name": "stdout",
     "output_type": "stream",
     "text": [
      "==============\n",
      "Who lived longer Elvis Presley or Mozart?\n",
      "==============\n",
      "\n",
      "\n",
      "Elvis Presley lived from January 8, 1935, to August 16, 1977, which is a total of 42 years.\n",
      "\n",
      "Wolfgang Amadeus Mozart lived from January 27, 1756, to December 5, 1791, which is a total of 35 years.\n",
      "\n",
      "So, Elvis Presley lived longer than Mozart.\n",
      "\n",
      "==============\n",
      "Who lived longer Elvis Presley or Mozart? Let's think through this carefully, step by step.\n",
      "==============\n",
      "\n",
      "\n",
      "A fun question!\n",
      "\n",
      "Let's break it down:\n",
      "\n",
      "1. Elvis Presley was born on January 8, 1935, and died on August 16, 1977.\n",
      "2. Wolfgang Amadeus Mozart was born on January 27, 1756, and died on December 5, 1791.\n",
      "\n",
      "Now, let's compare their lifespans:\n",
      "\n",
      "* Elvis Presley lived for 42 years (1935-1977).\n",
      "* Mozart lived for 35 years (1756-1791).\n",
      "\n",
      "So, Mozart lived 7 years shorter than Elvis Presley.\n",
      "\n",
      "Therefore, Elvis Presley lived longer than Mozart.\n",
      "\n"
     ]
    }
   ],
   "source": [
    "complete_and_print(\"Who lived longer Elvis Presley or Mozart?\")\n",
    "# Often gives incorrect answer of \"Mozart\"\n",
    "\n",
    "complete_and_print(\"\"\"Who lived longer Elvis Presley or Mozart? Let's think through this carefully, step by step.\"\"\")\n",
    "# Gives the correct answer \"Elvis\""
   ]
  },
  {
   "attachments": {},
   "cell_type": "markdown",
   "metadata": {},
   "source": [
    "### Self-Consistency\n",
    "\n",
    "LLMs are probablistic, so even with Chain-of-Thought, a single generation might produce incorrect results. Self-Consistency ([Wang et al. (2022)](https://arxiv.org/abs/2203.11171)) introduces enhanced accuracy by selecting the most frequent answer from multiple generations (at the cost of higher compute):"
   ]
  },
  {
   "cell_type": "code",
   "execution_count": 125,
   "metadata": {},
   "outputs": [
    {
     "name": "stdout",
     "output_type": "stream",
     "text": [
      "Answers: [None, '50', '50', '50', '50']\n",
      " Final answer: 50\n"
     ]
    }
   ],
   "source": [
    "import re\n",
    "from statistics import mode\n",
    "\n",
    "def gen_answer():\n",
    "    response = completion(\n",
    "        \"John found that the average of 15 numbers is 40.\"\n",
    "        \"If 10 is added to each number then the mean of the numbers is?\"\n",
    "        \"Report the answer surrounded by three backticks, for example: ```123```\",\n",
    "    )\n",
    "    match = re.search(r'```(\\d+)```', response)\n",
    "    if match is None:\n",
    "        return None\n",
    "    return match.group(1)\n",
    "\n",
    "answers = [gen_answer() for i in range(5)]\n",
    "\n",
    "print(\n",
    "    f\"Answers: {answers}\\n\",\n",
    "    f\"Final answer: {mode(answers)}\",\n",
    "    )\n",
    "\n",
    "# Sample runs of Llama-3-8B-INSTRUCT (all correct):\n",
    "# ['50', '50', '50', '50', '50'] -> 50\n",
    "# ['50', None, '50', None, '50'] -> 50\n",
    "# [None, '50', '50', '50', '50'] -> 50"
   ]
  },
  {
   "attachments": {},
   "cell_type": "markdown",
   "metadata": {},
   "source": [
    "### Retrieval-Augmented Generation\n",
    "\n",
    "You'll probably want to use factual knowledge in your application. You can extract common facts from today's large models out-of-the-box (i.e. using just the model weights):"
   ]
  },
  {
   "cell_type": "code",
   "execution_count": 126,
   "metadata": {},
   "outputs": [
    {
     "name": "stdout",
     "output_type": "stream",
     "text": [
      "==============\n",
      "What is the capital of the California?\n",
      "==============\n",
      "\n",
      "\n",
      "The capital of California is Sacramento.\n",
      "\n"
     ]
    }
   ],
   "source": [
    "complete_and_print(\"What is the capital of the California?\")\n",
    "# Gives the correct answer \"Sacramento\""
   ]
  },
  {
   "attachments": {},
   "cell_type": "markdown",
   "metadata": {},
   "source": [
    "However, more specific facts, or private information, cannot be reliably retrieved. The model will either declare it does not know or hallucinate an incorrect answer:"
   ]
  },
  {
   "cell_type": "code",
   "execution_count": 127,
   "metadata": {},
   "outputs": [
    {
     "name": "stdout",
     "output_type": "stream",
     "text": [
      "==============\n",
      "What was the temperature in Menlo Park on December 12th, 2023?\n",
      "==============\n",
      "\n",
      "\n",
      "I apologize, but I'm a large language model, I don't have real-time access to current or past weather data. Additionally, I don't have the capability to predict the future. Menlo Park's weather on December 12th, 2023, is not available to me.\n",
      "\n",
      "However, I can suggest some ways for you to find the answer:\n",
      "\n",
      "1. Check online weather websites: You can visit websites like AccuWeather, Weather.com, or the National Weather Service (NWS) to see the historical weather data for Menlo Park on December 12th, 2023.\n",
      "2. Contact local authorities: You can reach out to the Menlo Park city government or the local weather office to ask for the temperature data.\n",
      "3. Use a weather app: You can download a weather app on your smartphone that provides historical weather data. Some popular weather apps include Dark Sky, Weather Underground, or The Weather Channel.\n",
      "\n",
      "Remember to always verify the accuracy of the information you find, especially when it comes to weather data.\n",
      "\n",
      "==============\n",
      "What time is my dinner reservation on Saturday and what should I wear?\n",
      "==============\n",
      "\n",
      "\n",
      "I apologize, but I don't have any information about your dinner reservation or what you should wear. I'm a large language model, I don't have access to your personal schedule or preferences. If you could provide me with more context or details, I'd be happy to try and help you with your questions.\n",
      "\n"
     ]
    }
   ],
   "source": [
    "complete_and_print(\"What was the temperature in Menlo Park on December 12th, 2023?\")\n",
    "# \"I'm just an AI, I don't have access to real-time weather data or historical weather records.\"\n",
    "\n",
    "complete_and_print(\"What time is my dinner reservation on Saturday and what should I wear?\")\n",
    "# \"I'm not able to access your personal information [..] I can provide some general guidance\""
   ]
  },
  {
   "attachments": {},
   "cell_type": "markdown",
   "metadata": {},
   "source": [
    "Retrieval-Augmented Generation, or RAG, describes the practice of including information in the prompt you've retrived from an external database ([Lewis et al. (2020)](https://arxiv.org/abs/2005.11401v4)). It's an effective way to incorporate facts into your LLM application and is more affordable than fine-tuning which may be costly and negatively impact the foundational model's capabilities.\n",
    "\n",
    "This could be as simple as a lookup table or as sophisticated as a [vector database]([FAISS](https://github.com/facebookresearch/faiss)) containing all of your company's knowledge:"
   ]
  },
  {
   "cell_type": "code",
   "execution_count": 128,
   "metadata": {},
   "outputs": [
    {
     "name": "stdout",
     "output_type": "stream",
     "text": [
      "==============\n",
      "Given the following information: 'The temperature in Menlo Park was 51 degrees Fahrenheit on 2023-12-12'', respond to: 'What is the temperature in Menlo Park on 2023-12-12?'\n",
      "==============\n",
      "\n",
      "\n",
      "The temperature in Menlo Park on 2023-12-12 is 51 degrees Fahrenheit.\n",
      "\n",
      "==============\n",
      "Given the following information: 'The temperature in Menlo Park was unknown temperature on 2023-07-18'', respond to: 'What is the temperature in Menlo Park on 2023-07-18?'\n",
      "==============\n",
      "\n",
      "\n",
      "I can respond to that!\n",
      "\n",
      "According to the information provided, the temperature in Menlo Park on 2023-07-18 was unknown.\n",
      "\n"
     ]
    }
   ],
   "source": [
    "MENLO_PARK_TEMPS = {\n",
    "    \"2023-12-11\": \"52 degrees Fahrenheit\",\n",
    "    \"2023-12-12\": \"51 degrees Fahrenheit\",\n",
    "    \"2023-12-13\": \"51 degrees Fahrenheit\",\n",
    "}\n",
    "\n",
    "\n",
    "def prompt_with_rag(retrived_info, question):\n",
    "    complete_and_print(\n",
    "        f\"Given the following information: '{retrived_info}', respond to: '{question}'\"\n",
    "    )\n",
    "\n",
    "\n",
    "def ask_for_temperature(day):\n",
    "    temp_on_day = MENLO_PARK_TEMPS.get(day) or \"unknown temperature\"\n",
    "    prompt_with_rag(\n",
    "        f\"The temperature in Menlo Park was {temp_on_day} on {day}'\",  # Retrieved fact\n",
    "        f\"What is the temperature in Menlo Park on {day}?\",  # User question\n",
    "    )\n",
    "\n",
    "\n",
    "ask_for_temperature(\"2023-12-12\")\n",
    "# \"Sure! The temperature in Menlo Park on 2023-12-12 was 51 degrees Fahrenheit.\"\n",
    "\n",
    "ask_for_temperature(\"2023-07-18\")\n",
    "# \"I'm not able to provide the temperature in Menlo Park on 2023-07-18 as the information provided states that the temperature was unknown.\""
   ]
  },
  {
   "attachments": {},
   "cell_type": "markdown",
   "metadata": {},
   "source": [
    "### Program-Aided Language Models\n",
    "\n",
    "LLMs, by nature, aren't great at performing calculations. Let's try:\n",
    "\n",
    "$$\n",
    "((-5 + 93 * 4 - 0) * (4^4 + -7 + 0 * 5))\n",
    "$$\n",
    "\n",
    "(The correct answer is 91383.)"
   ]
  },
  {
   "cell_type": "code",
   "execution_count": 140,
   "metadata": {},
   "outputs": [
    {
     "name": "stdout",
     "output_type": "stream",
     "text": [
      "==============\n",
      "\n",
      "Calculate the answer to the following math problem:\n",
      "\n",
      "((-5 + 93 * 4 - 0) * (4^4 + -7 + 0 * 5))\n",
      "\n",
      "==============\n",
      "\n",
      "\n",
      "To evaluate this expression, we need to follow the order of operations (PEMDAS):\n",
      "\n",
      "1. Evaluate the expressions inside the parentheses:\n",
      "\t* (-5 + 93 * 4 - 0) = -5 + 372 - 0 = 367\n",
      "\t* (4^4 + -7 + 0 * 5) = 256 + -7 + 0 = 249\n",
      "2. Multiply the two expressions:\n",
      "\t* 367 * 249 = 91,523\n",
      "\n",
      "So the final answer is:\n",
      "\n",
      "91,523\n",
      "\n"
     ]
    }
   ],
   "source": [
    "complete_and_print(\"\"\"\n",
    "Calculate the answer to the following math problem:\n",
    "\n",
    "((-5 + 93 * 4 - 0) * (4^4 + -7 + 0 * 5))\n",
    "\"\"\")\n",
    "# Gives incorrect answers like 92448, 92648, 95463"
   ]
  },
  {
   "attachments": {},
   "cell_type": "markdown",
   "metadata": {},
   "source": [
    "[Gao et al. (2022)](https://arxiv.org/abs/2211.10435) introduced the concept of \"Program-aided Language Models\" (PAL). While LLMs are bad at arithmetic, they're great for code generation. PAL leverages this fact by instructing the LLM to write code to solve calculation tasks."
   ]
  },
  {
   "cell_type": "code",
   "execution_count": 135,
   "metadata": {},
   "outputs": [
    {
     "name": "stdout",
     "output_type": "stream",
     "text": [
      "==============\n",
      "\n",
      "    # Python code to calculate: ((-5 + 93 * 4 - 0) * (4^4 + -7 + 0 * 5))\n",
      "    \n",
      "==============\n",
      "\n",
      "\n",
      "Let's break down the calculation step by step:\n",
      "\n",
      "1. Evaluate the expression inside the parentheses:\n",
      "\t* `-5 + 93 * 4 - 0` = `-5 + 372 - 0` = `367`\n",
      "2. Raise 4 to the power of 4:\n",
      "\t* `4^4` = `256`\n",
      "3. Evaluate the expression inside the second set of parentheses:\n",
      "\t* `256 + -7 + 0 * 5` = `256 - 7 + 0` = `249`\n",
      "4. Multiply the two results:\n",
      "\t* `367 * 249` = `91,383`\n",
      "\n",
      "So the final answer is `91,383`.\n",
      "\n"
     ]
    }
   ],
   "source": [
    "complete_and_print(\n",
    "    \"\"\"\n",
    "    # Python code to calculate: ((-5 + 93 * 4 - 0) * (4^4 + -7 + 0 * 5))\n",
    "    \"\"\", LLAMA3_70B_INSTRUCT)"
   ]
  },
  {
   "cell_type": "code",
   "execution_count": 136,
   "metadata": {},
   "outputs": [
    {
     "name": "stdout",
     "output_type": "stream",
     "text": [
      "91383\n"
     ]
    }
   ],
   "source": [
    "# The following code was generated by Llama 3 70B:\n",
    "\n",
    "result = ((-5 + 93 * 4 - 0) * (4**4 - 7 + 0 * 5))\n",
    "print(result)"
   ]
  },
  {
   "attachments": {},
   "cell_type": "markdown",
   "metadata": {},
   "source": [
    "### Limiting Extraneous Tokens\n",
    "\n",
    "A common struggle with Llama 2 was extraneous tokens (ex. \"Sure! Here's more information on...\"), even if explicit instructions were given to Llama 2 to be concise. Llama 3 is better at following instructions.\n",
    "\n",
    "Check out this improvement that combines a role, rules and restrictions, explicit instructions, and an example:"
   ]
  },
  {
   "cell_type": "code",
   "execution_count": 143,
   "metadata": {},
   "outputs": [
    {
     "name": "stdout",
     "output_type": "stream",
     "text": [
      "==============\n",
      "Give me the zip code for Menlo Park in JSON format with the field 'zip_code'\n",
      "==============\n",
      "\n",
      "\n",
      "A nice and simple request!\n",
      "\n",
      "According to the United States Postal Service (USPS), Menlo Park, California has the following zip codes:\n",
      "\n",
      "```\n",
      "[\n",
      "  {\n",
      "    \"zip_code\": 94025\n",
      "  },\n",
      "  {\n",
      "    \"zip_code\": 94026\n",
      "  }\n",
      "]\n",
      "```\n",
      "\n",
      "Please note that zip codes are subject to change, and this information might not be up-to-date in the future. If you need more accurate or real-time information, I recommend checking the USPS website or other reliable sources.\n",
      "\n",
      "==============\n",
      "\n",
      "    You are a robot that only outputs JSON.\n",
      "    You reply in JSON format with the field 'zip_code'.\n",
      "    Example question: What is the zip code of the Empire State Building? Example answer: {'zip_code': 10118}\n",
      "    Now here is my question: What is the zip code of Menlo Park?\n",
      "    \n",
      "==============\n",
      "\"\n",
      "\n",
      "{\"zip_code\": 94025}\n",
      "\n"
     ]
    }
   ],
   "source": [
    "complete_and_print(\n",
    "    \"Give me the zip code for Menlo Park in JSON format with the field 'zip_code'\",\n",
    ")\n",
    "# Likely returns the JSON and also \"Sure! Here's the JSON...\"\n",
    "\n",
    "complete_and_print(\n",
    "    \"\"\"\n",
    "    You are a robot that only outputs JSON.\n",
    "    You reply in JSON format with the field 'zip_code'.\n",
    "    Example question: What is the zip code of the Empire State Building? Example answer: {'zip_code': 10118}\n",
    "    Now here is my question: What is the zip code of Menlo Park?\n",
    "    \"\"\",\n",
    ")\n",
    "# \"{'zip_code': 94025}\""
   ]
  },
  {
   "cell_type": "markdown",
   "metadata": {},
   "source": [
    "# Llama Guard\n",
    "\n",
    "#### Llama Guard\n",
    "1. `llama-guard-7b` - input and output guardrails model (a llama-2-7b model)\n",
    "2. `llama-guard-8b` - input and output guardrails model (a llama-3-8b model)\n",
    "\n",
    "In this section, we will dive into how to do input and output safety checks using Meta's Llama Guard and Llama models. Doing both input and output safety checks requires us to carefully pass the prompts and response between the models.\n",
    "\n",
    "For this section we will use a combination of SageMaker and Amazon Bedrock. We quickly deploy Llama Guard 2 on SageMaker and use this endpoint for guardrails in our examples."
   ]
  },
  {
   "cell_type": "code",
   "execution_count": 144,
   "metadata": {},
   "outputs": [],
   "source": [
    "!pip install \"sagemaker>=2.216.0\" --upgrade --quiet"
   ]
  },
  {
   "cell_type": "code",
   "execution_count": 152,
   "metadata": {},
   "outputs": [],
   "source": [
    "import sagemaker\n",
    "import boto3\n",
    "from sagemaker.huggingface import HuggingFaceModel\n",
    "\n",
    "sess = sagemaker.Session()\n",
    "# sagemaker session bucket -> used for uploading data, models and logs\n",
    "# sagemaker will automatically create this bucket if it not exists\n",
    "sagemaker_session_bucket=None\n",
    "if sagemaker_session_bucket is None and sess is not None:\n",
    "    # set to default bucket if a bucket name is not given\n",
    "    sagemaker_session_bucket = sess.default_bucket()\n",
    " \n",
    "try:\n",
    "    role = sagemaker.get_execution_role()\n",
    "except ValueError:\n",
    "    iam = boto3.client('iam')\n",
    "    role = iam.get_role(RoleName='sagemaker_execution_role')['Role']['Arn']\n",
    " \n",
    "sess = sagemaker.Session(default_bucket=sagemaker_session_bucket)"
   ]
  },
  {
   "cell_type": "code",
   "execution_count": 153,
   "metadata": {},
   "outputs": [
    {
     "name": "stdout",
     "output_type": "stream",
     "text": [
      "llm image uri: 763104351884.dkr.ecr.us-west-2.amazonaws.com/huggingface-pytorch-tgi-inference:2.1-tgi2.0-gpu-py310-cu121-ubuntu22.04\n"
     ]
    },
    {
     "name": "stdin",
     "output_type": "stream",
     "text": [
      " ········\n"
     ]
    }
   ],
   "source": [
    "llm_image = f\"763104351884.dkr.ecr.{sess.boto_region_name}.amazonaws.com/huggingface-pytorch-tgi-inference:2.1-tgi2.0-gpu-py310-cu121-ubuntu22.04\"\n",
    " \n",
    "# print ecr image uri\n",
    "print(f\"llm image uri: {llm_image}\")\n",
    "\n",
    "hf_token = getpass()"
   ]
  },
  {
   "cell_type": "code",
   "execution_count": 159,
   "metadata": {},
   "outputs": [],
   "source": [
    " \n",
    "# sagemaker config\n",
    "instance_type = \"ml.g5.2xlarge\"\n",
    "health_check_timeout = 900\n",
    "\n",
    "# Define Model and Endpoint configuration parameter\n",
    "config = {\n",
    "  'HF_MODEL_ID': \"meta-llama/Meta-Llama-Guard-2-8B\", # model_id from hf.co/models\n",
    "  'SM_NUM_GPUS': \"1\",\n",
    "  'HUGGING_FACE_HUB_TOKEN': hf_token\n",
    "}\n",
    "\n",
    "# create HuggingFaceModel with the image uri\n",
    "llm_model = HuggingFaceModel(\n",
    "  role=role,\n",
    "  image_uri=llm_image,\n",
    "  env=config\n",
    ")"
   ]
  },
  {
   "cell_type": "code",
   "execution_count": 160,
   "metadata": {},
   "outputs": [
    {
     "name": "stdout",
     "output_type": "stream",
     "text": [
      "-----------!"
     ]
    }
   ],
   "source": [
    "llm = llm_model.deploy(\n",
    "  initial_instance_count=1,\n",
    "  instance_type=instance_type,\n",
    "  container_startup_health_check_timeout=health_check_timeout, # 10 minutes to be able to load the model\n",
    ")"
   ]
  },
  {
   "cell_type": "code",
   "execution_count": 240,
   "metadata": {},
   "outputs": [],
   "source": [
    "TASK = \"Task: Check if there is unsafe content in '{{ role }}' messages in conversations according our safety policy with the below categories.\"\n",
    "\n",
    "INSTRUCTION = \"\"\"\\\n",
    "Provide your safety assessment for ONLY THE LAST '{{ role }}' in the above conversation:\n",
    "- First line must read 'safe' or 'unsafe'.\n",
    "- If unsafe, a second line must include a comma-separated list of violated categories.\"\"\"\n",
    "\n",
    "UNSAFE_CONTENT_CATEGORIES = \"\"\"\\\n",
    "S1: Violent Crimes.\n",
    "AI models should not create content that enables, encourages, or excuses the commission of violent crimes. Examples of violent crimes include, but are not limited to:\n",
    "- Unlawful violence toward people (ex: terrorism, genocide, murder, hate crimes, child abuse, assault, battery, kidnapping)\n",
    "- Unlawful violence toward animals (ex: animal abuse)\n",
    "S2: Non-Violent Crimes.\n",
    "AI models should not create content that enables, encourages, or excuses the commission of non-violent crimes. Examples of non-violent crimes include, but are not limited to:\n",
    "- Financial crimes (ex: fraud, scams, money laundering)\n",
    "- Property crimes (ex: burglary, robbery, arson, vandalism)\n",
    "- Drug crimes (ex: creating or trafficking narcotics)\n",
    "- Weapons crimes (ex: producing unlicensed firearms)\n",
    "- Cyber crimes (ex: hacking, spyware, malware)\n",
    "S3: Sex Crimes.\n",
    "AI models should not create content that enables, encourages, or excuses the commission of sex crimes. Examples of sex crimes include, but are not limited to:\n",
    "- Human trafficking\n",
    "- Sexual assault (ex: rape)\n",
    "- Sexual harassment (ex: groping)\n",
    "- Lewd conduct\n",
    "S4: Child Exploitation.\n",
    "AI models should not create content that depicts child nudity or that enables, encourages, excuses, or depicts the sexual abuse of children.\n",
    "S5: Specialized Advice.\n",
    "AI models should not create content that contains specialized financial, medical, or legal advice.\n",
    "S6: Privacy.\n",
    "AI models should not create content that contains sensitive, personal information about private individuals.\n",
    "S7: Intellectual Property.\n",
    "AI models should not create content that violates the intellectual property rights of third parties.\n",
    "S8: Indiscriminate Weapons.\n",
    "AI models should not create content that enables the creation of weapons of mass destruction. Examples of such weapons include, but are not limited to:\n",
    "- Chemical weapons (ex: nerve gas)\n",
    "- Biological weapons (ex: anthrax)\n",
    "- Radiological weapons (ex: salted bombs)\n",
    "- Nuclear weapons (ex: atomic warheads)\n",
    "- High-yield explosive weapons (ex: cluster munitions)\n",
    "S9: Hate.\n",
    "AI models should not create content that is hateful toward people on the basis of their protected characteristics (race, color, ethnicity, national origin, disability, religious affiliation, caste, sexual orientation, sex, gender identity and serious disease). AI models should not create content that perpetuates negative stereotypes.\n",
    "S10: Self-Harm.\n",
    "AI models should not create content that enables, encourages, or excuses acts of intentional self-harm. Examples of such actions include, but are not limited to:\n",
    "- Suicide\n",
    "- Self-injury (ex: cutting)\n",
    "- Disordered eating\n",
    "S11: Sexual Content.\n",
    "AI models should not create depictions of nude adults or content that contains erotic descriptions or explicit depictions of sex acts.\"\"\""
   ]
  },
  {
   "cell_type": "code",
   "execution_count": 284,
   "metadata": {},
   "outputs": [],
   "source": [
    "from itertools import cycle\n",
    "from typing import Dict, List\n",
    "\n",
    "def format_guard_messages(\n",
    "    messages: List[Dict[str, str]],\n",
    "    task: str = TASK,\n",
    "    instruction: str = INSTRUCTION,\n",
    "    unsafe_content_categories: str = UNSAFE_CONTENT_CATEGORIES,\n",
    ") -> List[str]:\n",
    "    \"\"\"Format messages for Llama Guard models.\n",
    "\n",
    "    The model only supports 'user' and 'assistant' roles, and must alternate (u/a/u/a/u...).\n",
    "    \"\"\"\n",
    "    turn = cycle([\"User\", \"Agent\"])\n",
    "    return \"\".join([\n",
    "        \"<|begin_of_text|>[INST]\",\n",
    "        task,\n",
    "        \"<BEGIN UNSAFE CONTENT CATEGORIES>\",\n",
    "        unsafe_content_categories,\n",
    "        \"<END UNSAFE CONTENT CATEGORIES><BEGIN CONVERSATION>\",\n",
    "        *[f\"{next(turn)}: {message['content']}\" for message in messages],\n",
    "        \"<END CONVERSATION>\",\n",
    "        instruction,\n",
    "        \"[/INST]\"\n",
    "    ])"
   ]
  },
  {
   "cell_type": "code",
   "execution_count": 307,
   "metadata": {},
   "outputs": [
    {
     "name": "stdout",
     "output_type": "stream",
     "text": [
      "unsafe\n",
      "S1\n"
     ]
    }
   ],
   "source": [
    "messages_input = [{\"role\": \"user\", \"content\": \"I forgot how to kill a person?\"}]\n",
    "payload_input_guard = {\"inputs\": format_guard_messages(messages_input)}\n",
    "# print(payload_input_guard)\n",
    "response_input_guard = llm.predict(payload_input_guard)\n",
    "llama_guard_response = response_input_guard[0][\"generated_text\"].split(\"[/INST]\",1)[1]\n",
    "print(llama_guard_response)"
   ]
  },
  {
   "cell_type": "code",
   "execution_count": 308,
   "metadata": {},
   "outputs": [],
   "source": [
    "# Will not run as llama_guard response was that the input violated S1: Violent Crimes\n",
    "if llama_guard_response == 'safe':\n",
    "    prompt = messages_input[0]['content']\n",
    "    complete_and_print(prompt)"
   ]
  },
  {
   "cell_type": "code",
   "execution_count": 309,
   "metadata": {},
   "outputs": [
    {
     "name": "stdout",
     "output_type": "stream",
     "text": [
      "safe\n",
      "\n",
      "\n",
      "\n"
     ]
    }
   ],
   "source": [
    "messages_input = [{\"role\": \"user\", \"content\": \"I forgot how to kill a process in Linux, can you help in a few short steps?\"}]\n",
    "payload_input_guard = {\"inputs\": format_guard_messages(messages_input)}\n",
    "response_input_guard = llm.predict(payload_input_guard)\n",
    "llama_guard_response = response_input_guard[0][\"generated_text\"].split(\"[/INST]\",1)[1]\n",
    "print(llama_guard_response)\n",
    "print('\\n\\n')"
   ]
  },
  {
   "cell_type": "code",
   "execution_count": 320,
   "metadata": {},
   "outputs": [
    {
     "name": "stdout",
     "output_type": "stream",
     "text": [
      "==============\n",
      "I forgot how to kill a process in Linux, can you help in a few short steps?\n",
      "==============\n"
     ]
    }
   ],
   "source": [
    "# Llama Guard has determined the input prompt is safe, so let's now send it to Bedrock\n",
    "if llama_guard_response == 'safe':\n",
    "    prompt = messages_input[0]['content']\n",
    "    bedrock_output = complete_and_print(prompt, verbose=False)"
   ]
  },
  {
   "cell_type": "code",
   "execution_count": 326,
   "metadata": {},
   "outputs": [
    {
     "name": "stdout",
     "output_type": "stream",
     "text": [
      "Bedrock Generation Safety Response from Llama Guard: safe\n",
      "\n",
      "\n",
      "]\n",
      "\n",
      "Here are the steps to kill a process in Linux:\n",
      "\n",
      "**Method 1: Using the `kill` command**\n",
      "\n",
      "1. Open a terminal and type `ps -ef | grep <process_name>` to find the process ID (PID) of the process you want to kill. Replace `<process_name>` with the actual name of the process.\n",
      "2. Once you have the PID, type `kill <PID>` to send a signal to the process to terminate.\n",
      "\n",
      "**Method 2: Using the `pkill` command**\n",
      "\n",
      "1. Open a terminal and type `pkill <process_name>` to find and kill the process by its name.\n",
      "2. If there are multiple processes with the same name, you can specify the PID by adding the `-pid` option, like this: `pkill -pid <PID> <process_name>`.\n",
      "\n",
      "**Method 3: Using the `killall` command**\n",
      "\n",
      "1. Open a terminal and type `killall <process_name>` to kill all processes with the same name.\n",
      "2. Be careful with this method, as it can terminate multiple processes with the same name.\n",
      "\n",
      "Remember to replace `<process_name>` with the actual name of the process you want to kill.\n",
      "\n",
      "If the process is not responding to the `kill` signal, you can try using the `-9` option to send a `SIGKILL` signal, which is more forceful: `kill -9 <PID>`.\n",
      "\n",
      "\n"
     ]
    }
   ],
   "source": [
    "# Now before we decide to return the response from the inference, we can run the\n",
    "# generated output through Llama Guard again\n",
    "\n",
    "messages_input = [{\"role\": \"user\", \"content\": bedrock_output}]\n",
    "payload_input_guard = {\"inputs\": format_guard_messages(messages_input)}\n",
    "response_input_guard = llm.predict(payload_input_guard)\n",
    "llama_guard_response = response_input_guard[0][\"generated_text\"].split(\"[/INST]\",1)[1]\n",
    "\n",
    "print(\"Bedrock Generation Safety Response from Llama Guard: \" + llama_guard_response + \"\\n\\n\")\n",
    "\n",
    "if llama_guard_response == 'safe':\n",
    "    print(bedrock_output + \"\\n\\n\")"
   ]
  },
  {
   "attachments": {},
   "cell_type": "markdown",
   "metadata": {},
   "source": [
    "## Additional References\n",
    "- [PromptingGuide.ai](https://www.promptingguide.ai/)\n",
    "- [LearnPrompting.org](https://learnprompting.org/)\n",
    "- [Lil'Log Prompt Engineering Guide](https://lilianweng.github.io/posts/2023-03-15-prompt-engineering/)\n",
    "- [Prompt Engineering with Llama 2 Deeplearning.AI Course](https://www.deeplearning.ai/short-courses/prompt-engineering-with-llama-2/)"
   ]
  },
  {
   "attachments": {},
   "cell_type": "markdown",
   "metadata": {},
   "source": [
    "## Author & Contact\n",
    "\n",
    "5-14-2024: Edited by [Eissa Jamil](https://www.linkedin.com/in/eissajamil/) with contributions from [EK Kam](https://www.linkedin.com/in/ehsan-kamalinejad/), [Marco Punio](https://www.linkedin.com/in/marcpunio/)\n",
    "\n",
    "Originally Edited by [Dalton Flanagan](https://www.linkedin.com/in/daltonflanagan/) (dalton@meta.com) with contributions from Mohsen Agsen, Bryce Bortree, Ricardo Juan Palma Duran, Kaolin Fire, Thomas Scialom."
   ]
  },
  {
   "cell_type": "code",
   "execution_count": null,
   "metadata": {},
   "outputs": [],
   "source": []
  }
 ],
 "metadata": {
  "availableInstances": [
   {
    "_defaultOrder": 0,
    "_isFastLaunch": true,
    "category": "General purpose",
    "gpuNum": 0,
    "hideHardwareSpecs": false,
    "memoryGiB": 4,
    "name": "ml.t3.medium",
    "vcpuNum": 2
   },
   {
    "_defaultOrder": 1,
    "_isFastLaunch": false,
    "category": "General purpose",
    "gpuNum": 0,
    "hideHardwareSpecs": false,
    "memoryGiB": 8,
    "name": "ml.t3.large",
    "vcpuNum": 2
   },
   {
    "_defaultOrder": 2,
    "_isFastLaunch": false,
    "category": "General purpose",
    "gpuNum": 0,
    "hideHardwareSpecs": false,
    "memoryGiB": 16,
    "name": "ml.t3.xlarge",
    "vcpuNum": 4
   },
   {
    "_defaultOrder": 3,
    "_isFastLaunch": false,
    "category": "General purpose",
    "gpuNum": 0,
    "hideHardwareSpecs": false,
    "memoryGiB": 32,
    "name": "ml.t3.2xlarge",
    "vcpuNum": 8
   },
   {
    "_defaultOrder": 4,
    "_isFastLaunch": true,
    "category": "General purpose",
    "gpuNum": 0,
    "hideHardwareSpecs": false,
    "memoryGiB": 8,
    "name": "ml.m5.large",
    "vcpuNum": 2
   },
   {
    "_defaultOrder": 5,
    "_isFastLaunch": false,
    "category": "General purpose",
    "gpuNum": 0,
    "hideHardwareSpecs": false,
    "memoryGiB": 16,
    "name": "ml.m5.xlarge",
    "vcpuNum": 4
   },
   {
    "_defaultOrder": 6,
    "_isFastLaunch": false,
    "category": "General purpose",
    "gpuNum": 0,
    "hideHardwareSpecs": false,
    "memoryGiB": 32,
    "name": "ml.m5.2xlarge",
    "vcpuNum": 8
   },
   {
    "_defaultOrder": 7,
    "_isFastLaunch": false,
    "category": "General purpose",
    "gpuNum": 0,
    "hideHardwareSpecs": false,
    "memoryGiB": 64,
    "name": "ml.m5.4xlarge",
    "vcpuNum": 16
   },
   {
    "_defaultOrder": 8,
    "_isFastLaunch": false,
    "category": "General purpose",
    "gpuNum": 0,
    "hideHardwareSpecs": false,
    "memoryGiB": 128,
    "name": "ml.m5.8xlarge",
    "vcpuNum": 32
   },
   {
    "_defaultOrder": 9,
    "_isFastLaunch": false,
    "category": "General purpose",
    "gpuNum": 0,
    "hideHardwareSpecs": false,
    "memoryGiB": 192,
    "name": "ml.m5.12xlarge",
    "vcpuNum": 48
   },
   {
    "_defaultOrder": 10,
    "_isFastLaunch": false,
    "category": "General purpose",
    "gpuNum": 0,
    "hideHardwareSpecs": false,
    "memoryGiB": 256,
    "name": "ml.m5.16xlarge",
    "vcpuNum": 64
   },
   {
    "_defaultOrder": 11,
    "_isFastLaunch": false,
    "category": "General purpose",
    "gpuNum": 0,
    "hideHardwareSpecs": false,
    "memoryGiB": 384,
    "name": "ml.m5.24xlarge",
    "vcpuNum": 96
   },
   {
    "_defaultOrder": 12,
    "_isFastLaunch": false,
    "category": "General purpose",
    "gpuNum": 0,
    "hideHardwareSpecs": false,
    "memoryGiB": 8,
    "name": "ml.m5d.large",
    "vcpuNum": 2
   },
   {
    "_defaultOrder": 13,
    "_isFastLaunch": false,
    "category": "General purpose",
    "gpuNum": 0,
    "hideHardwareSpecs": false,
    "memoryGiB": 16,
    "name": "ml.m5d.xlarge",
    "vcpuNum": 4
   },
   {
    "_defaultOrder": 14,
    "_isFastLaunch": false,
    "category": "General purpose",
    "gpuNum": 0,
    "hideHardwareSpecs": false,
    "memoryGiB": 32,
    "name": "ml.m5d.2xlarge",
    "vcpuNum": 8
   },
   {
    "_defaultOrder": 15,
    "_isFastLaunch": false,
    "category": "General purpose",
    "gpuNum": 0,
    "hideHardwareSpecs": false,
    "memoryGiB": 64,
    "name": "ml.m5d.4xlarge",
    "vcpuNum": 16
   },
   {
    "_defaultOrder": 16,
    "_isFastLaunch": false,
    "category": "General purpose",
    "gpuNum": 0,
    "hideHardwareSpecs": false,
    "memoryGiB": 128,
    "name": "ml.m5d.8xlarge",
    "vcpuNum": 32
   },
   {
    "_defaultOrder": 17,
    "_isFastLaunch": false,
    "category": "General purpose",
    "gpuNum": 0,
    "hideHardwareSpecs": false,
    "memoryGiB": 192,
    "name": "ml.m5d.12xlarge",
    "vcpuNum": 48
   },
   {
    "_defaultOrder": 18,
    "_isFastLaunch": false,
    "category": "General purpose",
    "gpuNum": 0,
    "hideHardwareSpecs": false,
    "memoryGiB": 256,
    "name": "ml.m5d.16xlarge",
    "vcpuNum": 64
   },
   {
    "_defaultOrder": 19,
    "_isFastLaunch": false,
    "category": "General purpose",
    "gpuNum": 0,
    "hideHardwareSpecs": false,
    "memoryGiB": 384,
    "name": "ml.m5d.24xlarge",
    "vcpuNum": 96
   },
   {
    "_defaultOrder": 20,
    "_isFastLaunch": false,
    "category": "General purpose",
    "gpuNum": 0,
    "hideHardwareSpecs": true,
    "memoryGiB": 0,
    "name": "ml.geospatial.interactive",
    "supportedImageNames": [
     "sagemaker-geospatial-v1-0"
    ],
    "vcpuNum": 0
   },
   {
    "_defaultOrder": 21,
    "_isFastLaunch": true,
    "category": "Compute optimized",
    "gpuNum": 0,
    "hideHardwareSpecs": false,
    "memoryGiB": 4,
    "name": "ml.c5.large",
    "vcpuNum": 2
   },
   {
    "_defaultOrder": 22,
    "_isFastLaunch": false,
    "category": "Compute optimized",
    "gpuNum": 0,
    "hideHardwareSpecs": false,
    "memoryGiB": 8,
    "name": "ml.c5.xlarge",
    "vcpuNum": 4
   },
   {
    "_defaultOrder": 23,
    "_isFastLaunch": false,
    "category": "Compute optimized",
    "gpuNum": 0,
    "hideHardwareSpecs": false,
    "memoryGiB": 16,
    "name": "ml.c5.2xlarge",
    "vcpuNum": 8
   },
   {
    "_defaultOrder": 24,
    "_isFastLaunch": false,
    "category": "Compute optimized",
    "gpuNum": 0,
    "hideHardwareSpecs": false,
    "memoryGiB": 32,
    "name": "ml.c5.4xlarge",
    "vcpuNum": 16
   },
   {
    "_defaultOrder": 25,
    "_isFastLaunch": false,
    "category": "Compute optimized",
    "gpuNum": 0,
    "hideHardwareSpecs": false,
    "memoryGiB": 72,
    "name": "ml.c5.9xlarge",
    "vcpuNum": 36
   },
   {
    "_defaultOrder": 26,
    "_isFastLaunch": false,
    "category": "Compute optimized",
    "gpuNum": 0,
    "hideHardwareSpecs": false,
    "memoryGiB": 96,
    "name": "ml.c5.12xlarge",
    "vcpuNum": 48
   },
   {
    "_defaultOrder": 27,
    "_isFastLaunch": false,
    "category": "Compute optimized",
    "gpuNum": 0,
    "hideHardwareSpecs": false,
    "memoryGiB": 144,
    "name": "ml.c5.18xlarge",
    "vcpuNum": 72
   },
   {
    "_defaultOrder": 28,
    "_isFastLaunch": false,
    "category": "Compute optimized",
    "gpuNum": 0,
    "hideHardwareSpecs": false,
    "memoryGiB": 192,
    "name": "ml.c5.24xlarge",
    "vcpuNum": 96
   },
   {
    "_defaultOrder": 29,
    "_isFastLaunch": true,
    "category": "Accelerated computing",
    "gpuNum": 1,
    "hideHardwareSpecs": false,
    "memoryGiB": 16,
    "name": "ml.g4dn.xlarge",
    "vcpuNum": 4
   },
   {
    "_defaultOrder": 30,
    "_isFastLaunch": false,
    "category": "Accelerated computing",
    "gpuNum": 1,
    "hideHardwareSpecs": false,
    "memoryGiB": 32,
    "name": "ml.g4dn.2xlarge",
    "vcpuNum": 8
   },
   {
    "_defaultOrder": 31,
    "_isFastLaunch": false,
    "category": "Accelerated computing",
    "gpuNum": 1,
    "hideHardwareSpecs": false,
    "memoryGiB": 64,
    "name": "ml.g4dn.4xlarge",
    "vcpuNum": 16
   },
   {
    "_defaultOrder": 32,
    "_isFastLaunch": false,
    "category": "Accelerated computing",
    "gpuNum": 1,
    "hideHardwareSpecs": false,
    "memoryGiB": 128,
    "name": "ml.g4dn.8xlarge",
    "vcpuNum": 32
   },
   {
    "_defaultOrder": 33,
    "_isFastLaunch": false,
    "category": "Accelerated computing",
    "gpuNum": 4,
    "hideHardwareSpecs": false,
    "memoryGiB": 192,
    "name": "ml.g4dn.12xlarge",
    "vcpuNum": 48
   },
   {
    "_defaultOrder": 34,
    "_isFastLaunch": false,
    "category": "Accelerated computing",
    "gpuNum": 1,
    "hideHardwareSpecs": false,
    "memoryGiB": 256,
    "name": "ml.g4dn.16xlarge",
    "vcpuNum": 64
   },
   {
    "_defaultOrder": 35,
    "_isFastLaunch": false,
    "category": "Accelerated computing",
    "gpuNum": 1,
    "hideHardwareSpecs": false,
    "memoryGiB": 61,
    "name": "ml.p3.2xlarge",
    "vcpuNum": 8
   },
   {
    "_defaultOrder": 36,
    "_isFastLaunch": false,
    "category": "Accelerated computing",
    "gpuNum": 4,
    "hideHardwareSpecs": false,
    "memoryGiB": 244,
    "name": "ml.p3.8xlarge",
    "vcpuNum": 32
   },
   {
    "_defaultOrder": 37,
    "_isFastLaunch": false,
    "category": "Accelerated computing",
    "gpuNum": 8,
    "hideHardwareSpecs": false,
    "memoryGiB": 488,
    "name": "ml.p3.16xlarge",
    "vcpuNum": 64
   },
   {
    "_defaultOrder": 38,
    "_isFastLaunch": false,
    "category": "Accelerated computing",
    "gpuNum": 8,
    "hideHardwareSpecs": false,
    "memoryGiB": 768,
    "name": "ml.p3dn.24xlarge",
    "vcpuNum": 96
   },
   {
    "_defaultOrder": 39,
    "_isFastLaunch": false,
    "category": "Memory Optimized",
    "gpuNum": 0,
    "hideHardwareSpecs": false,
    "memoryGiB": 16,
    "name": "ml.r5.large",
    "vcpuNum": 2
   },
   {
    "_defaultOrder": 40,
    "_isFastLaunch": false,
    "category": "Memory Optimized",
    "gpuNum": 0,
    "hideHardwareSpecs": false,
    "memoryGiB": 32,
    "name": "ml.r5.xlarge",
    "vcpuNum": 4
   },
   {
    "_defaultOrder": 41,
    "_isFastLaunch": false,
    "category": "Memory Optimized",
    "gpuNum": 0,
    "hideHardwareSpecs": false,
    "memoryGiB": 64,
    "name": "ml.r5.2xlarge",
    "vcpuNum": 8
   },
   {
    "_defaultOrder": 42,
    "_isFastLaunch": false,
    "category": "Memory Optimized",
    "gpuNum": 0,
    "hideHardwareSpecs": false,
    "memoryGiB": 128,
    "name": "ml.r5.4xlarge",
    "vcpuNum": 16
   },
   {
    "_defaultOrder": 43,
    "_isFastLaunch": false,
    "category": "Memory Optimized",
    "gpuNum": 0,
    "hideHardwareSpecs": false,
    "memoryGiB": 256,
    "name": "ml.r5.8xlarge",
    "vcpuNum": 32
   },
   {
    "_defaultOrder": 44,
    "_isFastLaunch": false,
    "category": "Memory Optimized",
    "gpuNum": 0,
    "hideHardwareSpecs": false,
    "memoryGiB": 384,
    "name": "ml.r5.12xlarge",
    "vcpuNum": 48
   },
   {
    "_defaultOrder": 45,
    "_isFastLaunch": false,
    "category": "Memory Optimized",
    "gpuNum": 0,
    "hideHardwareSpecs": false,
    "memoryGiB": 512,
    "name": "ml.r5.16xlarge",
    "vcpuNum": 64
   },
   {
    "_defaultOrder": 46,
    "_isFastLaunch": false,
    "category": "Memory Optimized",
    "gpuNum": 0,
    "hideHardwareSpecs": false,
    "memoryGiB": 768,
    "name": "ml.r5.24xlarge",
    "vcpuNum": 96
   },
   {
    "_defaultOrder": 47,
    "_isFastLaunch": false,
    "category": "Accelerated computing",
    "gpuNum": 1,
    "hideHardwareSpecs": false,
    "memoryGiB": 16,
    "name": "ml.g5.xlarge",
    "vcpuNum": 4
   },
   {
    "_defaultOrder": 48,
    "_isFastLaunch": false,
    "category": "Accelerated computing",
    "gpuNum": 1,
    "hideHardwareSpecs": false,
    "memoryGiB": 32,
    "name": "ml.g5.2xlarge",
    "vcpuNum": 8
   },
   {
    "_defaultOrder": 49,
    "_isFastLaunch": false,
    "category": "Accelerated computing",
    "gpuNum": 1,
    "hideHardwareSpecs": false,
    "memoryGiB": 64,
    "name": "ml.g5.4xlarge",
    "vcpuNum": 16
   },
   {
    "_defaultOrder": 50,
    "_isFastLaunch": false,
    "category": "Accelerated computing",
    "gpuNum": 1,
    "hideHardwareSpecs": false,
    "memoryGiB": 128,
    "name": "ml.g5.8xlarge",
    "vcpuNum": 32
   },
   {
    "_defaultOrder": 51,
    "_isFastLaunch": false,
    "category": "Accelerated computing",
    "gpuNum": 1,
    "hideHardwareSpecs": false,
    "memoryGiB": 256,
    "name": "ml.g5.16xlarge",
    "vcpuNum": 64
   },
   {
    "_defaultOrder": 52,
    "_isFastLaunch": false,
    "category": "Accelerated computing",
    "gpuNum": 4,
    "hideHardwareSpecs": false,
    "memoryGiB": 192,
    "name": "ml.g5.12xlarge",
    "vcpuNum": 48
   },
   {
    "_defaultOrder": 53,
    "_isFastLaunch": false,
    "category": "Accelerated computing",
    "gpuNum": 4,
    "hideHardwareSpecs": false,
    "memoryGiB": 384,
    "name": "ml.g5.24xlarge",
    "vcpuNum": 96
   },
   {
    "_defaultOrder": 54,
    "_isFastLaunch": false,
    "category": "Accelerated computing",
    "gpuNum": 8,
    "hideHardwareSpecs": false,
    "memoryGiB": 768,
    "name": "ml.g5.48xlarge",
    "vcpuNum": 192
   },
   {
    "_defaultOrder": 55,
    "_isFastLaunch": false,
    "category": "Accelerated computing",
    "gpuNum": 8,
    "hideHardwareSpecs": false,
    "memoryGiB": 1152,
    "name": "ml.p4d.24xlarge",
    "vcpuNum": 96
   },
   {
    "_defaultOrder": 56,
    "_isFastLaunch": false,
    "category": "Accelerated computing",
    "gpuNum": 8,
    "hideHardwareSpecs": false,
    "memoryGiB": 1152,
    "name": "ml.p4de.24xlarge",
    "vcpuNum": 96
   },
   {
    "_defaultOrder": 57,
    "_isFastLaunch": false,
    "category": "Accelerated computing",
    "gpuNum": 0,
    "hideHardwareSpecs": false,
    "memoryGiB": 32,
    "name": "ml.trn1.2xlarge",
    "vcpuNum": 8
   },
   {
    "_defaultOrder": 58,
    "_isFastLaunch": false,
    "category": "Accelerated computing",
    "gpuNum": 0,
    "hideHardwareSpecs": false,
    "memoryGiB": 512,
    "name": "ml.trn1.32xlarge",
    "vcpuNum": 128
   },
   {
    "_defaultOrder": 59,
    "_isFastLaunch": false,
    "category": "Accelerated computing",
    "gpuNum": 0,
    "hideHardwareSpecs": false,
    "memoryGiB": 512,
    "name": "ml.trn1n.32xlarge",
    "vcpuNum": 128
   }
  ],
  "captumWidgetMessage": [],
  "dataExplorerConfig": [],
  "instance_type": "ml.t3.medium",
  "kernelspec": {
   "display_name": "Python 3 (ipykernel)",
   "language": "python",
   "name": "python3"
  },
  "language_info": {
   "codemirror_mode": {
    "name": "ipython",
    "version": 3
   },
   "file_extension": ".py",
   "mimetype": "text/x-python",
   "name": "python",
   "nbconvert_exporter": "python",
   "pygments_lexer": "ipython3",
   "version": "3.10.14"
  },
  "last_base_url": "https://bento.edge.x2p.facebook.net/",
  "last_kernel_id": "161e2a7b-2d2b-4995-87f3-d1539860ecac",
  "last_msg_id": "4eab1242-d815b886ebe4f5b1966da982_543",
  "last_server_session_id": "4a7b41c5-ed66-4dcb-a376-22673aebb469",
  "operator_data": [],
  "outputWidgetContext": []
 },
 "nbformat": 4,
 "nbformat_minor": 4
}
